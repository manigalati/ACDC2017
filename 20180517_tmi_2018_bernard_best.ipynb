{
  "nbformat": 4,
  "nbformat_minor": 0,
  "metadata": {
    "colab": {
      "name": "20180517_tmi_2018_bernard_best.ipynb",
      "provenance": [],
      "collapsed_sections": [],
      "toc_visible": true
    },
    "kernelspec": {
      "name": "python3",
      "display_name": "Python 3"
    },
    "accelerator": "GPU"
  },
  "cells": [
    {
      "cell_type": "code",
      "metadata": {
        "id": "D3yo65JTbgTH",
        "colab_type": "code",
        "colab": {}
      },
      "source": [
        "!rm -r sample_data"
      ],
      "execution_count": 1,
      "outputs": []
    },
    {
      "cell_type": "code",
      "metadata": {
        "id": "wWXQyccP2HqU",
        "colab_type": "code",
        "colab": {
          "base_uri": "https://localhost:8080/",
          "height": 34
        },
        "outputId": "2451bdf7-ddf1-40f1-b6e8-c08fb12eaaf0"
      },
      "source": [
        "!nvidia-smi -L"
      ],
      "execution_count": 2,
      "outputs": [
        {
          "output_type": "stream",
          "text": [
            "GPU 0: Tesla P100-PCIE-16GB (UUID: GPU-6137c308-ef70-7623-66d0-cebed567b9ad)\n"
          ],
          "name": "stdout"
        }
      ]
    },
    {
      "cell_type": "code",
      "metadata": {
        "id": "dwEd_HDEmzCN",
        "colab_type": "code",
        "colab": {
          "base_uri": "https://localhost:8080/",
          "height": 34
        },
        "outputId": "64554200-4af7-4b94-ef19-7c9f8c6a4766"
      },
      "source": [
        "#mount drive\n",
        "from google.colab import drive\n",
        "drive.mount('/content/drive')"
      ],
      "execution_count": 3,
      "outputs": [
        {
          "output_type": "stream",
          "text": [
            "Mounted at /content/drive\n"
          ],
          "name": "stdout"
        }
      ]
    },
    {
      "cell_type": "markdown",
      "metadata": {
        "id": "evnbI7F1U0nW",
        "colab_type": "text"
      },
      "source": [
        "## Install requirements"
      ]
    },
    {
      "cell_type": "code",
      "metadata": {
        "id": "C7nxD6cpU3LP",
        "colab_type": "code",
        "colab": {
          "base_uri": "https://localhost:8080/",
          "height": 0
        },
        "outputId": "1952eabb-1e8f-4a8d-f2dd-ad004a13b520"
      },
      "source": [
        "!pip install SimpleITK\n",
        "!pip install -r https://raw.githubusercontent.com/Lasagne/Lasagne/master/requirements.txt\n",
        "!pip install https://github.com/Lasagne/Lasagne/archive/master.zip\n",
        "!pip install medpy\n",
        "!pip install --upgrade batchgenerators"
      ],
      "execution_count": 4,
      "outputs": [
        {
          "output_type": "stream",
          "text": [
            "Collecting SimpleITK\n",
            "\u001b[?25l  Downloading https://files.pythonhosted.org/packages/f8/d8/53338c34f71020725ffb3557846c80af96c29c03bc883551a2565aa68a7c/SimpleITK-1.2.4-cp36-cp36m-manylinux1_x86_64.whl (42.5MB)\n",
            "\u001b[K     |████████████████████████████████| 42.5MB 72kB/s \n",
            "\u001b[?25hInstalling collected packages: SimpleITK\n",
            "Successfully installed SimpleITK-1.2.4\n",
            "Requirement already satisfied: Theano>=0.8.2 in /usr/local/lib/python3.6/dist-packages (from -r https://raw.githubusercontent.com/Lasagne/Lasagne/master/requirements.txt (line 1)) (1.0.5)\n",
            "Requirement already satisfied: six>=1.9.0 in /usr/local/lib/python3.6/dist-packages (from Theano>=0.8.2->-r https://raw.githubusercontent.com/Lasagne/Lasagne/master/requirements.txt (line 1)) (1.15.0)\n",
            "Requirement already satisfied: scipy>=0.14 in /usr/local/lib/python3.6/dist-packages (from Theano>=0.8.2->-r https://raw.githubusercontent.com/Lasagne/Lasagne/master/requirements.txt (line 1)) (1.4.1)\n",
            "Requirement already satisfied: numpy>=1.9.1 in /usr/local/lib/python3.6/dist-packages (from Theano>=0.8.2->-r https://raw.githubusercontent.com/Lasagne/Lasagne/master/requirements.txt (line 1)) (1.18.5)\n",
            "Collecting https://github.com/Lasagne/Lasagne/archive/master.zip\n",
            "\u001b[?25l  Downloading https://github.com/Lasagne/Lasagne/archive/master.zip\n",
            "\u001b[K     | 1.1MB 9.0MB/s\n",
            "\u001b[?25hRequirement already satisfied: numpy in /usr/local/lib/python3.6/dist-packages (from Lasagne==0.2.dev1) (1.18.5)\n",
            "Building wheels for collected packages: Lasagne\n",
            "  Building wheel for Lasagne (setup.py) ... \u001b[?25l\u001b[?25hdone\n",
            "  Created wheel for Lasagne: filename=Lasagne-0.2.dev1-cp36-none-any.whl size=122797 sha256=05e71c286ee34375db7eec9f473e41b3a75f6cecff669c82ab4cd0a7ce58bd33\n",
            "  Stored in directory: /tmp/pip-ephem-wheel-cache-ni35os11/wheels/ca/4a/00/87f1777b229481fe76562df7c0cfb993bc88ed0cc37e3f0ed4\n",
            "Successfully built Lasagne\n",
            "Installing collected packages: Lasagne\n",
            "Successfully installed Lasagne-0.2.dev1\n",
            "Collecting medpy\n",
            "\u001b[?25l  Downloading https://files.pythonhosted.org/packages/3b/70/c1fd5dd60242eee81774696ea7ba4caafac2bad8f028bba94b1af83777d7/MedPy-0.4.0.tar.gz (151kB)\n",
            "\u001b[K     |████████████████████████████████| 153kB 2.9MB/s \n",
            "\u001b[?25hRequirement already satisfied: scipy>=1.1.0 in /usr/local/lib/python3.6/dist-packages (from medpy) (1.4.1)\n",
            "Requirement already satisfied: numpy>=1.11.0 in /usr/local/lib/python3.6/dist-packages (from medpy) (1.18.5)\n",
            "Requirement already satisfied: SimpleITK>=1.1.0 in /usr/local/lib/python3.6/dist-packages (from medpy) (1.2.4)\n",
            "Building wheels for collected packages: medpy\n",
            "  Building wheel for medpy (setup.py) ... \u001b[?25l\u001b[?25hdone\n",
            "  Created wheel for medpy: filename=MedPy-0.4.0-cp36-cp36m-linux_x86_64.whl size=753432 sha256=7a110a9a07612a23d5e482417210743441aac0f8589235f36612c1edc496e49a\n",
            "  Stored in directory: /root/.cache/pip/wheels/8c/c9/9c/2c6281c7a72b9fb1570862a4f028af7ce38405008354fbf870\n",
            "Successfully built medpy\n",
            "Installing collected packages: medpy\n",
            "Successfully installed medpy-0.4.0\n",
            "Collecting batchgenerators\n",
            "\u001b[?25l  Downloading https://files.pythonhosted.org/packages/96/f4/cb4b676c831e68d3ef210600a8d3de291a183c987e6c1e0539a17e588c1b/batchgenerators-0.20.1.tar.gz (46kB)\n",
            "\u001b[K     |████████████████████████████████| 51kB 1.7MB/s \n",
            "\u001b[?25hRequirement already satisfied, skipping upgrade: pillow<7.1 in /usr/local/lib/python3.6/dist-packages (from batchgenerators) (7.0.0)\n",
            "Requirement already satisfied, skipping upgrade: numpy>=1.10.2 in /usr/local/lib/python3.6/dist-packages (from batchgenerators) (1.18.5)\n",
            "Requirement already satisfied, skipping upgrade: scipy in /usr/local/lib/python3.6/dist-packages (from batchgenerators) (1.4.1)\n",
            "Requirement already satisfied, skipping upgrade: scikit-image in /usr/local/lib/python3.6/dist-packages (from batchgenerators) (0.16.2)\n",
            "Requirement already satisfied, skipping upgrade: scikit-learn in /usr/local/lib/python3.6/dist-packages (from batchgenerators) (0.22.2.post1)\n",
            "Requirement already satisfied, skipping upgrade: future in /usr/local/lib/python3.6/dist-packages (from batchgenerators) (0.16.0)\n",
            "Collecting unittest2\n",
            "\u001b[?25l  Downloading https://files.pythonhosted.org/packages/72/20/7f0f433060a962200b7272b8c12ba90ef5b903e218174301d0abfd523813/unittest2-1.1.0-py2.py3-none-any.whl (96kB)\n",
            "\u001b[K     |████████████████████████████████| 102kB 4.3MB/s \n",
            "\u001b[?25hCollecting threadpoolctl\n",
            "  Downloading https://files.pythonhosted.org/packages/f7/12/ec3f2e203afa394a149911729357aa48affc59c20e2c1c8297a60f33f133/threadpoolctl-2.1.0-py3-none-any.whl\n",
            "Requirement already satisfied, skipping upgrade: imageio>=2.3.0 in /usr/local/lib/python3.6/dist-packages (from scikit-image->batchgenerators) (2.4.1)\n",
            "Requirement already satisfied, skipping upgrade: matplotlib!=3.0.0,>=2.0.0 in /usr/local/lib/python3.6/dist-packages (from scikit-image->batchgenerators) (3.2.2)\n",
            "Requirement already satisfied, skipping upgrade: PyWavelets>=0.4.0 in /usr/local/lib/python3.6/dist-packages (from scikit-image->batchgenerators) (1.1.1)\n",
            "Requirement already satisfied, skipping upgrade: networkx>=2.0 in /usr/local/lib/python3.6/dist-packages (from scikit-image->batchgenerators) (2.5)\n",
            "Requirement already satisfied, skipping upgrade: joblib>=0.11 in /usr/local/lib/python3.6/dist-packages (from scikit-learn->batchgenerators) (0.16.0)\n",
            "Collecting argparse\n",
            "  Downloading https://files.pythonhosted.org/packages/f2/94/3af39d34be01a24a6e65433d19e107099374224905f1e0cc6bbe1fd22a2f/argparse-1.4.0-py2.py3-none-any.whl\n",
            "Collecting traceback2\n",
            "  Downloading https://files.pythonhosted.org/packages/17/0a/6ac05a3723017a967193456a2efa0aa9ac4b51456891af1e2353bb9de21e/traceback2-1.4.0-py2.py3-none-any.whl\n",
            "Requirement already satisfied, skipping upgrade: six>=1.4 in /usr/local/lib/python3.6/dist-packages (from unittest2->batchgenerators) (1.15.0)\n",
            "Requirement already satisfied, skipping upgrade: pyparsing!=2.0.4,!=2.1.2,!=2.1.6,>=2.0.1 in /usr/local/lib/python3.6/dist-packages (from matplotlib!=3.0.0,>=2.0.0->scikit-image->batchgenerators) (2.4.7)\n",
            "Requirement already satisfied, skipping upgrade: python-dateutil>=2.1 in /usr/local/lib/python3.6/dist-packages (from matplotlib!=3.0.0,>=2.0.0->scikit-image->batchgenerators) (2.8.1)\n",
            "Requirement already satisfied, skipping upgrade: cycler>=0.10 in /usr/local/lib/python3.6/dist-packages (from matplotlib!=3.0.0,>=2.0.0->scikit-image->batchgenerators) (0.10.0)\n",
            "Requirement already satisfied, skipping upgrade: kiwisolver>=1.0.1 in /usr/local/lib/python3.6/dist-packages (from matplotlib!=3.0.0,>=2.0.0->scikit-image->batchgenerators) (1.2.0)\n",
            "Requirement already satisfied, skipping upgrade: decorator>=4.3.0 in /usr/local/lib/python3.6/dist-packages (from networkx>=2.0->scikit-image->batchgenerators) (4.4.2)\n",
            "Collecting linecache2\n",
            "  Downloading https://files.pythonhosted.org/packages/c7/a3/c5da2a44c85bfbb6eebcfc1dde24933f8704441b98fdde6528f4831757a6/linecache2-1.0.0-py2.py3-none-any.whl\n",
            "Building wheels for collected packages: batchgenerators\n",
            "  Building wheel for batchgenerators (setup.py) ... \u001b[?25l\u001b[?25hdone\n",
            "  Created wheel for batchgenerators: filename=batchgenerators-0.20.1-cp36-none-any.whl size=70315 sha256=2af0e176018c2c616650563af8f808a8f797ddf254976afdd8d1290a69ee1991\n",
            "  Stored in directory: /root/.cache/pip/wheels/da/6d/f4/6f4c4fcd88115a2e9963bd144b75e78d8ecc72e94e164d8b6b\n",
            "Successfully built batchgenerators\n",
            "Installing collected packages: argparse, linecache2, traceback2, unittest2, threadpoolctl, batchgenerators\n",
            "Successfully installed argparse-1.4.0 batchgenerators-0.20.1 linecache2-1.0.0 threadpoolctl-2.1.0 traceback2-1.4.0 unittest2-1.1.0\n"
          ],
          "name": "stdout"
        },
        {
          "output_type": "display_data",
          "data": {
            "application/vnd.colab-display-data+json": {
              "pip_warning": {
                "packages": [
                  "argparse"
                ]
              }
            }
          },
          "metadata": {
            "tags": []
          }
        }
      ]
    },
    {
      "cell_type": "code",
      "metadata": {
        "id": "eiVHvYonU85m",
        "colab_type": "code",
        "colab": {}
      },
      "source": [
        "import batchgenerators\n",
        "batchgenerators_path = batchgenerators.__file__.split(\"/__init\")[0]"
      ],
      "execution_count": 5,
      "outputs": []
    },
    {
      "cell_type": "code",
      "metadata": {
        "id": "Cr0jawYaVlB2",
        "colab_type": "code",
        "colab": {
          "base_uri": "https://localhost:8080/",
          "height": 0
        },
        "outputId": "914379de-6b0f-48ad-96ac-c502745dcc70"
      },
      "source": [
        "!wget https://raw.githubusercontent.com/MIC-DKFZ/batchgenerators/master/batchgenerators/dataloading/multi_threaded_augmenter.py -O $batchgenerators_path/dataloading/multi_threaded_augmenter.py"
      ],
      "execution_count": 6,
      "outputs": [
        {
          "output_type": "stream",
          "text": [
            "--2020-09-14 10:18:08--  https://raw.githubusercontent.com/MIC-DKFZ/batchgenerators/master/batchgenerators/dataloading/multi_threaded_augmenter.py\n",
            "Resolving raw.githubusercontent.com (raw.githubusercontent.com)... 151.101.0.133, 151.101.64.133, 151.101.128.133, ...\n",
            "Connecting to raw.githubusercontent.com (raw.githubusercontent.com)|151.101.0.133|:443... connected.\n",
            "HTTP request sent, awaiting response... 200 OK\n",
            "Length: 11119 (11K) [text/plain]\n",
            "Saving to: ‘/usr/local/lib/python3.6/dist-packages/batchgenerators/dataloading/multi_threaded_augmenter.py’\n",
            "\n",
            "\r          /usr/loca   0%[                    ]       0  --.-KB/s               \r/usr/local/lib/pyth 100%[===================>]  10.86K  --.-KB/s    in 0s      \n",
            "\n",
            "2020-09-14 10:18:08 (76.3 MB/s) - ‘/usr/local/lib/python3.6/dist-packages/batchgenerators/dataloading/multi_threaded_augmenter.py’ saved [11119/11119]\n",
            "\n"
          ],
          "name": "stdout"
        }
      ]
    },
    {
      "cell_type": "markdown",
      "metadata": {
        "id": "REmKO22EVzVu",
        "colab_type": "text"
      },
      "source": [
        "### pygpu"
      ]
    },
    {
      "cell_type": "code",
      "metadata": {
        "id": "Yr_skb-GV1NT",
        "colab_type": "code",
        "colab": {
          "base_uri": "https://localhost:8080/",
          "height": 0
        },
        "outputId": "14b6a7bf-f07b-4de5-fd20-7420bd7dde07"
      },
      "source": [
        "!git clone https://github.com/Theano/libgpuarray.git\n",
        "%cd libgpuarray\n",
        "!mkdir Build"
      ],
      "execution_count": 7,
      "outputs": [
        {
          "output_type": "stream",
          "text": [
            "Cloning into 'libgpuarray'...\n",
            "remote: Enumerating objects: 11420, done.\u001b[K\n",
            "remote: Total 11420 (delta 0), reused 0 (delta 0), pack-reused 11420\u001b[K\n",
            "Receiving objects: 100% (11420/11420), 2.59 MiB | 20.70 MiB/s, done.\n",
            "Resolving deltas: 100% (8379/8379), done.\n",
            "/content/libgpuarray\n"
          ],
          "name": "stdout"
        }
      ]
    },
    {
      "cell_type": "code",
      "metadata": {
        "id": "nMmvi3bVV3CH",
        "colab_type": "code",
        "colab": {
          "base_uri": "https://localhost:8080/",
          "height": 0
        },
        "outputId": "007d457d-706b-4892-a109-8d0176a35075"
      },
      "source": [
        "%%bash\n",
        "cd Build\n",
        "# you can pass -DCMAKE_INSTALL_PREFIX=/path/to/somewhere to install to an alternate location\n",
        "cmake .. -DCMAKE_BUILD_TYPE=Release # or Debug if you are investigating a crash\n",
        "make\n",
        "make install"
      ],
      "execution_count": 8,
      "outputs": [
        {
          "output_type": "stream",
          "text": [
            "-- The C compiler identification is GNU 7.5.0\n",
            "-- Check for working C compiler: /usr/bin/cc\n",
            "-- Check for working C compiler: /usr/bin/cc -- works\n",
            "-- Detecting C compiler ABI info\n",
            "-- Detecting C compiler ABI info - done\n",
            "-- Detecting C compile features\n",
            "-- Detecting C compile features - done\n",
            "-- Looking for strlcat\n",
            "-- Looking for strlcat - not found\n",
            "-- Looking for mkstemp\n",
            "-- Looking for mkstemp - found\n",
            "-- Found PkgConfig: /usr/bin/pkg-config (found version \"0.29.1\") \n",
            "-- Checking for one of the modules 'check'\n",
            "-- Configuring done\n",
            "-- Generating done\n",
            "-- Build files have been written to: /content/libgpuarray/Build\n",
            "[  1%] Generating ../../src/cluda_opencl.h.c\n",
            "[  2%] Generating ../../src/cluda_cuda.h.c\n",
            "Scanning dependencies of target gpuarray-static\n",
            "[  3%] Building C object src/CMakeFiles/gpuarray-static.dir/cache/lru.c.o\n",
            "[  5%] Building C object src/CMakeFiles/gpuarray-static.dir/cache/twoq.c.o\n",
            "[  6%] Building C object src/CMakeFiles/gpuarray-static.dir/cache/disk.c.o\n",
            "[  7%] Building C object src/CMakeFiles/gpuarray-static.dir/gpuarray_types.c.o\n",
            "[  8%] Building C object src/CMakeFiles/gpuarray-static.dir/gpuarray_error.c.o\n",
            "[ 10%] Building C object src/CMakeFiles/gpuarray-static.dir/gpuarray_util.c.o\n",
            "[ 11%] Building C object src/CMakeFiles/gpuarray-static.dir/gpuarray_buffer.c.o\n",
            "[ 12%] Building C object src/CMakeFiles/gpuarray-static.dir/gpuarray_buffer_blas.c.o\n",
            "[ 13%] Building C object src/CMakeFiles/gpuarray-static.dir/gpuarray_buffer_collectives.c.o\n",
            "[ 15%] Building C object src/CMakeFiles/gpuarray-static.dir/gpuarray_array.c.o\n",
            "[ 16%] Building C object src/CMakeFiles/gpuarray-static.dir/gpuarray_array_blas.c.o\n",
            "[ 17%] Building C object src/CMakeFiles/gpuarray-static.dir/gpuarray_array_collectives.c.o\n",
            "[ 18%] Building C object src/CMakeFiles/gpuarray-static.dir/gpuarray_kernel.c.o\n",
            "[ 20%] Building C object src/CMakeFiles/gpuarray-static.dir/gpuarray_extension.c.o\n",
            "[ 21%] Building C object src/CMakeFiles/gpuarray-static.dir/gpuarray_elemwise.c.o\n",
            "[ 22%] Building C object src/CMakeFiles/gpuarray-static.dir/gpuarray_reduction.c.o\n",
            "[ 23%] Building C object src/CMakeFiles/gpuarray-static.dir/gpuarray_buffer_cuda.c.o\n",
            "[ 25%] Building C object src/CMakeFiles/gpuarray-static.dir/gpuarray_blas_cuda_cublas.c.o\n",
            "[ 26%] Building C object src/CMakeFiles/gpuarray-static.dir/gpuarray_collectives_cuda_nccl.c.o\n",
            "[ 27%] Building C object src/CMakeFiles/gpuarray-static.dir/gpuarray_buffer_opencl.c.o\n",
            "[ 28%] Building C object src/CMakeFiles/gpuarray-static.dir/gpuarray_blas_opencl_clblas.c.o\n",
            "[ 30%] Building C object src/CMakeFiles/gpuarray-static.dir/gpuarray_blas_opencl_clblast.c.o\n",
            "[ 31%] Building C object src/CMakeFiles/gpuarray-static.dir/gpuarray_strl.c.o\n",
            "[ 32%] Building C object src/CMakeFiles/gpuarray-static.dir/util/strb.c.o\n",
            "[ 33%] Building C object src/CMakeFiles/gpuarray-static.dir/util/error.c.o\n",
            "[ 35%] Building C object src/CMakeFiles/gpuarray-static.dir/util/xxhash.c.o\n",
            "[ 36%] Building C object src/CMakeFiles/gpuarray-static.dir/util/integerfactoring.c.o\n",
            "[ 37%] Building C object src/CMakeFiles/gpuarray-static.dir/util/skein.c.o\n",
            "[ 38%] Building C object src/CMakeFiles/gpuarray-static.dir/loaders/dyn_load.c.o\n",
            "[ 40%] Building C object src/CMakeFiles/gpuarray-static.dir/loaders/libcuda.c.o\n",
            "[ 41%] Building C object src/CMakeFiles/gpuarray-static.dir/loaders/libnvrtc.c.o\n",
            "[ 42%] Building C object src/CMakeFiles/gpuarray-static.dir/loaders/libcublas.c.o\n",
            "[ 43%] Building C object src/CMakeFiles/gpuarray-static.dir/loaders/libnccl.c.o\n",
            "[ 45%] Building C object src/CMakeFiles/gpuarray-static.dir/loaders/libopencl.c.o\n",
            "[ 46%] Building C object src/CMakeFiles/gpuarray-static.dir/loaders/libclblas.c.o\n",
            "[ 47%] Building C object src/CMakeFiles/gpuarray-static.dir/loaders/libclblast.c.o\n",
            "[ 48%] Linking C static library ../../lib/libgpuarray-static.a\n",
            "[ 50%] Built target gpuarray-static\n",
            "Scanning dependencies of target gpuarray\n",
            "[ 51%] Building C object src/CMakeFiles/gpuarray.dir/cache/lru.c.o\n",
            "[ 52%] Building C object src/CMakeFiles/gpuarray.dir/cache/twoq.c.o\n",
            "[ 53%] Building C object src/CMakeFiles/gpuarray.dir/cache/disk.c.o\n",
            "[ 55%] Building C object src/CMakeFiles/gpuarray.dir/gpuarray_types.c.o\n",
            "[ 56%] Building C object src/CMakeFiles/gpuarray.dir/gpuarray_error.c.o\n",
            "[ 57%] Building C object src/CMakeFiles/gpuarray.dir/gpuarray_util.c.o\n",
            "[ 58%] Building C object src/CMakeFiles/gpuarray.dir/gpuarray_buffer.c.o\n",
            "[ 60%] Building C object src/CMakeFiles/gpuarray.dir/gpuarray_buffer_blas.c.o\n",
            "[ 61%] Building C object src/CMakeFiles/gpuarray.dir/gpuarray_buffer_collectives.c.o\n",
            "[ 62%] Building C object src/CMakeFiles/gpuarray.dir/gpuarray_array.c.o\n",
            "[ 63%] Building C object src/CMakeFiles/gpuarray.dir/gpuarray_array_blas.c.o\n",
            "[ 65%] Building C object src/CMakeFiles/gpuarray.dir/gpuarray_array_collectives.c.o\n",
            "[ 66%] Building C object src/CMakeFiles/gpuarray.dir/gpuarray_kernel.c.o\n",
            "[ 67%] Building C object src/CMakeFiles/gpuarray.dir/gpuarray_extension.c.o\n",
            "[ 68%] Building C object src/CMakeFiles/gpuarray.dir/gpuarray_elemwise.c.o\n",
            "[ 70%] Building C object src/CMakeFiles/gpuarray.dir/gpuarray_reduction.c.o\n",
            "[ 71%] Building C object src/CMakeFiles/gpuarray.dir/gpuarray_buffer_cuda.c.o\n",
            "[ 72%] Building C object src/CMakeFiles/gpuarray.dir/gpuarray_blas_cuda_cublas.c.o\n",
            "[ 73%] Building C object src/CMakeFiles/gpuarray.dir/gpuarray_collectives_cuda_nccl.c.o\n",
            "[ 75%] Building C object src/CMakeFiles/gpuarray.dir/gpuarray_buffer_opencl.c.o\n",
            "[ 76%] Building C object src/CMakeFiles/gpuarray.dir/gpuarray_blas_opencl_clblas.c.o\n",
            "[ 77%] Building C object src/CMakeFiles/gpuarray.dir/gpuarray_blas_opencl_clblast.c.o\n",
            "[ 78%] Building C object src/CMakeFiles/gpuarray.dir/gpuarray_strl.c.o\n",
            "[ 80%] Building C object src/CMakeFiles/gpuarray.dir/util/strb.c.o\n",
            "[ 81%] Building C object src/CMakeFiles/gpuarray.dir/util/error.c.o\n",
            "[ 82%] Building C object src/CMakeFiles/gpuarray.dir/util/xxhash.c.o\n",
            "[ 83%] Building C object src/CMakeFiles/gpuarray.dir/util/integerfactoring.c.o\n",
            "[ 85%] Building C object src/CMakeFiles/gpuarray.dir/util/skein.c.o\n",
            "[ 86%] Building C object src/CMakeFiles/gpuarray.dir/loaders/dyn_load.c.o\n",
            "[ 87%] Building C object src/CMakeFiles/gpuarray.dir/loaders/libcuda.c.o\n",
            "[ 88%] Building C object src/CMakeFiles/gpuarray.dir/loaders/libnvrtc.c.o\n",
            "[ 90%] Building C object src/CMakeFiles/gpuarray.dir/loaders/libcublas.c.o\n",
            "[ 91%] Building C object src/CMakeFiles/gpuarray.dir/loaders/libnccl.c.o\n",
            "[ 92%] Building C object src/CMakeFiles/gpuarray.dir/loaders/libopencl.c.o\n",
            "[ 93%] Building C object src/CMakeFiles/gpuarray.dir/loaders/libclblas.c.o\n",
            "[ 95%] Building C object src/CMakeFiles/gpuarray.dir/loaders/libclblast.c.o\n",
            "[ 96%] Linking C shared library ../../lib/libgpuarray.so\n",
            "[100%] Built target gpuarray\n",
            "[ 50%] Built target gpuarray-static\n",
            "[100%] Built target gpuarray\n",
            "Install the project...\n",
            "-- Install configuration: \"Release\"\n",
            "-- Installing: /usr/local/include/gpuarray/array.h\n",
            "-- Installing: /usr/local/include/gpuarray/blas.h\n",
            "-- Installing: /usr/local/include/gpuarray/collectives.h\n",
            "-- Installing: /usr/local/include/gpuarray/buffer.h\n",
            "-- Installing: /usr/local/include/gpuarray/buffer_blas.h\n",
            "-- Installing: /usr/local/include/gpuarray/buffer_collectives.h\n",
            "-- Installing: /usr/local/include/gpuarray/abi_version.h\n",
            "-- Installing: /usr/local/include/gpuarray/config.h\n",
            "-- Installing: /usr/local/include/gpuarray/elemwise.h\n",
            "-- Installing: /usr/local/include/gpuarray/error.h\n",
            "-- Installing: /usr/local/include/gpuarray/extension.h\n",
            "-- Installing: /usr/local/include/gpuarray/ext_cuda.h\n",
            "-- Installing: /usr/local/include/gpuarray/kernel.h\n",
            "-- Installing: /usr/local/include/gpuarray/types.h\n",
            "-- Installing: /usr/local/include/gpuarray/util.h\n",
            "-- Installing: /usr/local/lib/libgpuarray.so.3.0\n",
            "-- Installing: /usr/local/lib/libgpuarray.so.3\n",
            "-- Installing: /usr/local/lib/libgpuarray.so\n",
            "-- Installing: /usr/local/lib/libgpuarray-static.a\n"
          ],
          "name": "stdout"
        },
        {
          "output_type": "stream",
          "text": [
            "Tests disabled because Check was not found\n",
            "/content/libgpuarray/src/gpuarray_buffer_opencl.c: In function ‘cl_memset’:\n",
            "/content/libgpuarray/src/gpuarray_buffer_opencl.c:969:12: warning: ‘m’ may be used uninitialized in this function [-Wmaybe-uninitialized]\n",
            "   k->refcnt--;\n",
            "   ~~~~~~~~~^~\n",
            "/content/libgpuarray/src/gpuarray_buffer_opencl.c:690:14: note: ‘m’ was declared here\n",
            "   gpukernel *m;\n",
            "              ^\n",
            "/content/libgpuarray/src/gpuarray_buffer_opencl.c: In function ‘cl_memset’:\n",
            "/content/libgpuarray/src/gpuarray_buffer_opencl.c:969:12: warning: ‘m’ may be used uninitialized in this function [-Wmaybe-uninitialized]\n",
            "   k->refcnt--;\n",
            "   ~~~~~~~~~^~\n",
            "/content/libgpuarray/src/gpuarray_buffer_opencl.c:690:14: note: ‘m’ was declared here\n",
            "   gpukernel *m;\n",
            "              ^\n"
          ],
          "name": "stderr"
        }
      ]
    },
    {
      "cell_type": "code",
      "metadata": {
        "id": "u4BQdST6V6_v",
        "colab_type": "code",
        "colab": {
          "base_uri": "https://localhost:8080/",
          "height": 0
        },
        "outputId": "4696713c-09f6-479b-a607-dd7b348717e0"
      },
      "source": [
        "!python setup.py build\n",
        "!python setup.py install"
      ],
      "execution_count": 9,
      "outputs": [
        {
          "output_type": "stream",
          "text": [
            "Compiling pygpu/gpuarray.pyx because it changed.\n",
            "Compiling pygpu/blas.pyx because it changed.\n",
            "Compiling pygpu/_elemwise.pyx because it changed.\n",
            "Compiling pygpu/collectives.pyx because it changed.\n",
            "[1/4] Cythonizing pygpu/_elemwise.pyx\n",
            "/usr/local/lib/python3.6/dist-packages/Cython/Compiler/Main.py:369: FutureWarning: Cython directive 'language_level' not set, using 2 for now (Py2). This will change in a later release! File: /content/libgpuarray/pygpu/_elemwise.pyx\n",
            "  tree = Parsing.p_module(s, pxd, full_module_name)\n",
            "[2/4] Cythonizing pygpu/blas.pyx\n",
            "/usr/local/lib/python3.6/dist-packages/Cython/Compiler/Main.py:369: FutureWarning: Cython directive 'language_level' not set, using 2 for now (Py2). This will change in a later release! File: /content/libgpuarray/pygpu/blas.pyx\n",
            "  tree = Parsing.p_module(s, pxd, full_module_name)\n",
            "[3/4] Cythonizing pygpu/collectives.pyx\n",
            "/usr/local/lib/python3.6/dist-packages/Cython/Compiler/Main.py:369: FutureWarning: Cython directive 'language_level' not set, using 2 for now (Py2). This will change in a later release! File: /content/libgpuarray/pygpu/collectives.pxd\n",
            "  tree = Parsing.p_module(s, pxd, full_module_name)\n",
            "[4/4] Cythonizing pygpu/gpuarray.pyx\n",
            "/usr/local/lib/python3.6/dist-packages/Cython/Compiler/Main.py:369: FutureWarning: Cython directive 'language_level' not set, using 2 for now (Py2). This will change in a later release! File: /content/libgpuarray/pygpu/gpuarray.pxd\n",
            "  tree = Parsing.p_module(s, pxd, full_module_name)\n",
            "running build\n",
            "running build_py\n",
            "creating build\n",
            "creating build/lib.linux-x86_64-3.6\n",
            "creating build/lib.linux-x86_64-3.6/pygpu\n",
            "copying pygpu/reduction.py -> build/lib.linux-x86_64-3.6/pygpu\n",
            "copying pygpu/elemwise.py -> build/lib.linux-x86_64-3.6/pygpu\n",
            "copying pygpu/tools.py -> build/lib.linux-x86_64-3.6/pygpu\n",
            "copying pygpu/dtypes.py -> build/lib.linux-x86_64-3.6/pygpu\n",
            "copying pygpu/operations.py -> build/lib.linux-x86_64-3.6/pygpu\n",
            "copying pygpu/basic.py -> build/lib.linux-x86_64-3.6/pygpu\n",
            "copying pygpu/_version.py -> build/lib.linux-x86_64-3.6/pygpu\n",
            "copying pygpu/_array.py -> build/lib.linux-x86_64-3.6/pygpu\n",
            "copying pygpu/__init__.py -> build/lib.linux-x86_64-3.6/pygpu\n",
            "creating build/lib.linux-x86_64-3.6/pygpu/tests\n",
            "copying pygpu/tests/test_collectives.py -> build/lib.linux-x86_64-3.6/pygpu/tests\n",
            "copying pygpu/tests/main.py -> build/lib.linux-x86_64-3.6/pygpu/tests\n",
            "copying pygpu/tests/test_elemwise.py -> build/lib.linux-x86_64-3.6/pygpu/tests\n",
            "copying pygpu/tests/test_basic.py -> build/lib.linux-x86_64-3.6/pygpu/tests\n",
            "copying pygpu/tests/test_tools.py -> build/lib.linux-x86_64-3.6/pygpu/tests\n",
            "copying pygpu/tests/test_gpu_ndarray.py -> build/lib.linux-x86_64-3.6/pygpu/tests\n",
            "copying pygpu/tests/support.py -> build/lib.linux-x86_64-3.6/pygpu/tests\n",
            "copying pygpu/tests/test_operations.py -> build/lib.linux-x86_64-3.6/pygpu/tests\n",
            "copying pygpu/tests/test_blas.py -> build/lib.linux-x86_64-3.6/pygpu/tests\n",
            "copying pygpu/tests/__init__.py -> build/lib.linux-x86_64-3.6/pygpu/tests\n",
            "copying pygpu/tests/test_reduction.py -> build/lib.linux-x86_64-3.6/pygpu/tests\n",
            "running egg_info\n",
            "creating pygpu.egg-info\n",
            "writing pygpu.egg-info/PKG-INFO\n",
            "writing dependency_links to pygpu.egg-info/dependency_links.txt\n",
            "writing requirements to pygpu.egg-info/requires.txt\n",
            "writing top-level names to pygpu.egg-info/top_level.txt\n",
            "writing manifest file 'pygpu.egg-info/SOURCES.txt'\n",
            "reading manifest template 'MANIFEST.in'\n",
            "writing manifest file 'pygpu.egg-info/SOURCES.txt'\n",
            "copying pygpu/_elemwise.c -> build/lib.linux-x86_64-3.6/pygpu\n",
            "copying pygpu/_elemwise.pyx -> build/lib.linux-x86_64-3.6/pygpu\n",
            "copying pygpu/blas.c -> build/lib.linux-x86_64-3.6/pygpu\n",
            "copying pygpu/blas.pyx -> build/lib.linux-x86_64-3.6/pygpu\n",
            "copying pygpu/collectives.c -> build/lib.linux-x86_64-3.6/pygpu\n",
            "copying pygpu/collectives.pxd -> build/lib.linux-x86_64-3.6/pygpu\n",
            "copying pygpu/collectives.pyx -> build/lib.linux-x86_64-3.6/pygpu\n",
            "copying pygpu/gpuarray.c -> build/lib.linux-x86_64-3.6/pygpu\n",
            "copying pygpu/gpuarray.pxd -> build/lib.linux-x86_64-3.6/pygpu\n",
            "copying pygpu/gpuarray.pyx -> build/lib.linux-x86_64-3.6/pygpu\n",
            "copying pygpu/numpy_compat.h -> build/lib.linux-x86_64-3.6/pygpu\n",
            "copying pygpu/gpuarray.h -> build/lib.linux-x86_64-3.6/pygpu\n",
            "copying pygpu/gpuarray_api.h -> build/lib.linux-x86_64-3.6/pygpu\n",
            "copying pygpu/blas_api.h -> build/lib.linux-x86_64-3.6/pygpu\n",
            "copying pygpu/collectives.h -> build/lib.linux-x86_64-3.6/pygpu\n",
            "copying pygpu/collectives_api.h -> build/lib.linux-x86_64-3.6/pygpu\n",
            "UPDATING build/lib.linux-x86_64-3.6/pygpu/_version.py\n",
            "set build/lib.linux-x86_64-3.6/pygpu/_version.py to '0.7.6+20.g9cec614'\n",
            "running build_ext\n",
            "building 'pygpu.gpuarray' extension\n",
            "creating build/temp.linux-x86_64-3.6\n",
            "creating build/temp.linux-x86_64-3.6/pygpu\n",
            "x86_64-linux-gnu-gcc -pthread -DNDEBUG -g -fwrapv -O2 -Wall -g -fstack-protector-strong -Wformat -Werror=format-security -Wdate-time -D_FORTIFY_SOURCE=2 -fPIC -DGPUARRAY_SHARED -I/usr/local/lib/python3.6/dist-packages/numpy/core/include -I/usr/include/python3.6m -c pygpu/gpuarray.c -o build/temp.linux-x86_64-3.6/pygpu/gpuarray.o -Wno-unused-variable -Wno-unused-function\n",
            "In file included from \u001b[01m\u001b[K/usr/local/lib/python3.6/dist-packages/numpy/core/include/numpy/ndarraytypes.h:1832:0\u001b[m\u001b[K,\n",
            "                 from \u001b[01m\u001b[K/usr/local/lib/python3.6/dist-packages/numpy/core/include/numpy/ndarrayobject.h:12\u001b[m\u001b[K,\n",
            "                 from \u001b[01m\u001b[K/usr/local/lib/python3.6/dist-packages/numpy/core/include/numpy/arrayobject.h:4\u001b[m\u001b[K,\n",
            "                 from \u001b[01m\u001b[Kpygpu/gpuarray.c:643\u001b[m\u001b[K:\n",
            "\u001b[01m\u001b[K/usr/local/lib/python3.6/dist-packages/numpy/core/include/numpy/npy_1_7_deprecated_api.h:17:2:\u001b[m\u001b[K \u001b[01;35m\u001b[Kwarning: \u001b[m\u001b[K#warning \"Using deprecated NumPy API, disable it with \" \"#define NPY_NO_DEPRECATED_API NPY_1_7_API_VERSION\" [\u001b[01;35m\u001b[K-Wcpp\u001b[m\u001b[K]\n",
            " #\u001b[01;35m\u001b[Kwarning\u001b[m\u001b[K \"Using deprecated NumPy API, disable it with \" \\\n",
            "  \u001b[01;35m\u001b[K^~~~~~~\u001b[m\u001b[K\n",
            "x86_64-linux-gnu-gcc -pthread -shared -Wl,-O1 -Wl,-Bsymbolic-functions -Wl,-Bsymbolic-functions -Wl,-z,relro -Wl,-Bsymbolic-functions -Wl,-z,relro -g -fstack-protector-strong -Wformat -Werror=format-security -Wdate-time -D_FORTIFY_SOURCE=2 build/temp.linux-x86_64-3.6/pygpu/gpuarray.o -lgpuarray -o build/lib.linux-x86_64-3.6/pygpu/gpuarray.cpython-36m-x86_64-linux-gnu.so\n",
            "building 'pygpu.blas' extension\n",
            "x86_64-linux-gnu-gcc -pthread -DNDEBUG -g -fwrapv -O2 -Wall -g -fstack-protector-strong -Wformat -Werror=format-security -Wdate-time -D_FORTIFY_SOURCE=2 -fPIC -DGPUARRAY_SHARED -I/usr/local/lib/python3.6/dist-packages/numpy/core/include -I/usr/include/python3.6m -c pygpu/blas.c -o build/temp.linux-x86_64-3.6/pygpu/blas.o -Wno-unused-variable -Wno-unused-function\n",
            "In file included from \u001b[01m\u001b[K/usr/local/lib/python3.6/dist-packages/numpy/core/include/numpy/ndarraytypes.h:1832:0\u001b[m\u001b[K,\n",
            "                 from \u001b[01m\u001b[K/usr/local/lib/python3.6/dist-packages/numpy/core/include/numpy/ndarrayobject.h:12\u001b[m\u001b[K,\n",
            "                 from \u001b[01m\u001b[K/usr/local/lib/python3.6/dist-packages/numpy/core/include/numpy/arrayobject.h:4\u001b[m\u001b[K,\n",
            "                 from \u001b[01m\u001b[Kpygpu/blas.c:643\u001b[m\u001b[K:\n",
            "\u001b[01m\u001b[K/usr/local/lib/python3.6/dist-packages/numpy/core/include/numpy/npy_1_7_deprecated_api.h:17:2:\u001b[m\u001b[K \u001b[01;35m\u001b[Kwarning: \u001b[m\u001b[K#warning \"Using deprecated NumPy API, disable it with \" \"#define NPY_NO_DEPRECATED_API NPY_1_7_API_VERSION\" [\u001b[01;35m\u001b[K-Wcpp\u001b[m\u001b[K]\n",
            " #\u001b[01;35m\u001b[Kwarning\u001b[m\u001b[K \"Using deprecated NumPy API, disable it with \" \\\n",
            "  \u001b[01;35m\u001b[K^~~~~~~\u001b[m\u001b[K\n",
            "x86_64-linux-gnu-gcc -pthread -shared -Wl,-O1 -Wl,-Bsymbolic-functions -Wl,-Bsymbolic-functions -Wl,-z,relro -Wl,-Bsymbolic-functions -Wl,-z,relro -g -fstack-protector-strong -Wformat -Werror=format-security -Wdate-time -D_FORTIFY_SOURCE=2 build/temp.linux-x86_64-3.6/pygpu/blas.o -lgpuarray -o build/lib.linux-x86_64-3.6/pygpu/blas.cpython-36m-x86_64-linux-gnu.so\n",
            "building 'pygpu._elemwise' extension\n",
            "x86_64-linux-gnu-gcc -pthread -DNDEBUG -g -fwrapv -O2 -Wall -g -fstack-protector-strong -Wformat -Werror=format-security -Wdate-time -D_FORTIFY_SOURCE=2 -fPIC -DGPUARRAY_SHARED -I/usr/local/lib/python3.6/dist-packages/numpy/core/include -I/usr/include/python3.6m -c pygpu/_elemwise.c -o build/temp.linux-x86_64-3.6/pygpu/_elemwise.o -Wno-unused-variable -Wno-unused-function\n",
            "In file included from \u001b[01m\u001b[K/usr/local/lib/python3.6/dist-packages/numpy/core/include/numpy/ndarraytypes.h:1832:0\u001b[m\u001b[K,\n",
            "                 from \u001b[01m\u001b[K/usr/local/lib/python3.6/dist-packages/numpy/core/include/numpy/ndarrayobject.h:12\u001b[m\u001b[K,\n",
            "                 from \u001b[01m\u001b[K/usr/local/lib/python3.6/dist-packages/numpy/core/include/numpy/arrayobject.h:4\u001b[m\u001b[K,\n",
            "                 from \u001b[01m\u001b[Kpygpu/_elemwise.c:643\u001b[m\u001b[K:\n",
            "\u001b[01m\u001b[K/usr/local/lib/python3.6/dist-packages/numpy/core/include/numpy/npy_1_7_deprecated_api.h:17:2:\u001b[m\u001b[K \u001b[01;35m\u001b[Kwarning: \u001b[m\u001b[K#warning \"Using deprecated NumPy API, disable it with \" \"#define NPY_NO_DEPRECATED_API NPY_1_7_API_VERSION\" [\u001b[01;35m\u001b[K-Wcpp\u001b[m\u001b[K]\n",
            " #\u001b[01;35m\u001b[Kwarning\u001b[m\u001b[K \"Using deprecated NumPy API, disable it with \" \\\n",
            "  \u001b[01;35m\u001b[K^~~~~~~\u001b[m\u001b[K\n",
            "\u001b[01m\u001b[Kpygpu/_elemwise.c:\u001b[m\u001b[K In function ‘\u001b[01m\u001b[K__pyx_pf_5pygpu_9_elemwise_3arg_2__init__\u001b[m\u001b[K’:\n",
            "\u001b[01m\u001b[Kpygpu/_elemwise.c:2436:8:\u001b[m\u001b[K \u001b[01;35m\u001b[Kwarning: \u001b[m\u001b[Kpassing argument 1 of ‘\u001b[01m\u001b[Kfree\u001b[m\u001b[K’ discards ‘\u001b[01m\u001b[Kconst\u001b[m\u001b[K’ qualifier from pointer target type [\u001b[01;35m\u001b[K-Wdiscarded-qualifiers\u001b[m\u001b[K]\n",
            "   free(\u001b[01;35m\u001b[K__pyx_v_self\u001b[m\u001b[K->a.name);\n",
            "        \u001b[01;35m\u001b[K^~~~~~~~~~~~\u001b[m\u001b[K\n",
            "In file included from \u001b[01m\u001b[K/usr/include/python3.6m/Python.h:34:0\u001b[m\u001b[K,\n",
            "                 from \u001b[01m\u001b[Kpygpu/_elemwise.c:36\u001b[m\u001b[K:\n",
            "\u001b[01m\u001b[K/usr/include/stdlib.h:563:13:\u001b[m\u001b[K \u001b[01;36m\u001b[Knote: \u001b[m\u001b[Kexpected ‘\u001b[01m\u001b[Kvoid *\u001b[m\u001b[K’ but argument is of type ‘\u001b[01m\u001b[Kconst char *\u001b[m\u001b[K’\n",
            " extern void \u001b[01;36m\u001b[Kfree\u001b[m\u001b[K (void *__ptr) __THROW;\n",
            "             \u001b[01;36m\u001b[K^~~~\u001b[m\u001b[K\n",
            "\u001b[01m\u001b[Kpygpu/_elemwise.c:\u001b[m\u001b[K In function ‘\u001b[01m\u001b[K__pyx_pf_5pygpu_9_elemwise_3arg_4__dealloc__\u001b[m\u001b[K’:\n",
            "\u001b[01m\u001b[Kpygpu/_elemwise.c:2678:8:\u001b[m\u001b[K \u001b[01;35m\u001b[Kwarning: \u001b[m\u001b[Kpassing argument 1 of ‘\u001b[01m\u001b[Kfree\u001b[m\u001b[K’ discards ‘\u001b[01m\u001b[Kconst\u001b[m\u001b[K’ qualifier from pointer target type [\u001b[01;35m\u001b[K-Wdiscarded-qualifiers\u001b[m\u001b[K]\n",
            "   free(\u001b[01;35m\u001b[K__pyx_v_self\u001b[m\u001b[K->a.name);\n",
            "        \u001b[01;35m\u001b[K^~~~~~~~~~~~\u001b[m\u001b[K\n",
            "In file included from \u001b[01m\u001b[K/usr/include/python3.6m/Python.h:34:0\u001b[m\u001b[K,\n",
            "                 from \u001b[01m\u001b[Kpygpu/_elemwise.c:36\u001b[m\u001b[K:\n",
            "\u001b[01m\u001b[K/usr/include/stdlib.h:563:13:\u001b[m\u001b[K \u001b[01;36m\u001b[Knote: \u001b[m\u001b[Kexpected ‘\u001b[01m\u001b[Kvoid *\u001b[m\u001b[K’ but argument is of type ‘\u001b[01m\u001b[Kconst char *\u001b[m\u001b[K’\n",
            " extern void \u001b[01;36m\u001b[Kfree\u001b[m\u001b[K (void *__ptr) __THROW;\n",
            "             \u001b[01;36m\u001b[K^~~~\u001b[m\u001b[K\n",
            "x86_64-linux-gnu-gcc -pthread -shared -Wl,-O1 -Wl,-Bsymbolic-functions -Wl,-Bsymbolic-functions -Wl,-z,relro -Wl,-Bsymbolic-functions -Wl,-z,relro -g -fstack-protector-strong -Wformat -Werror=format-security -Wdate-time -D_FORTIFY_SOURCE=2 build/temp.linux-x86_64-3.6/pygpu/_elemwise.o -lgpuarray -o build/lib.linux-x86_64-3.6/pygpu/_elemwise.cpython-36m-x86_64-linux-gnu.so\n",
            "building 'pygpu.collectives' extension\n",
            "x86_64-linux-gnu-gcc -pthread -DNDEBUG -g -fwrapv -O2 -Wall -g -fstack-protector-strong -Wformat -Werror=format-security -Wdate-time -D_FORTIFY_SOURCE=2 -fPIC -DGPUARRAY_SHARED -I/usr/local/lib/python3.6/dist-packages/numpy/core/include -I/usr/include/python3.6m -c pygpu/collectives.c -o build/temp.linux-x86_64-3.6/pygpu/collectives.o -Wno-unused-variable -Wno-unused-function\n",
            "In file included from \u001b[01m\u001b[K/usr/local/lib/python3.6/dist-packages/numpy/core/include/numpy/ndarraytypes.h:1832:0\u001b[m\u001b[K,\n",
            "                 from \u001b[01m\u001b[K/usr/local/lib/python3.6/dist-packages/numpy/core/include/numpy/ndarrayobject.h:12\u001b[m\u001b[K,\n",
            "                 from \u001b[01m\u001b[K/usr/local/lib/python3.6/dist-packages/numpy/core/include/numpy/arrayobject.h:4\u001b[m\u001b[K,\n",
            "                 from \u001b[01m\u001b[Kpygpu/collectives.c:643\u001b[m\u001b[K:\n",
            "\u001b[01m\u001b[K/usr/local/lib/python3.6/dist-packages/numpy/core/include/numpy/npy_1_7_deprecated_api.h:17:2:\u001b[m\u001b[K \u001b[01;35m\u001b[Kwarning: \u001b[m\u001b[K#warning \"Using deprecated NumPy API, disable it with \" \"#define NPY_NO_DEPRECATED_API NPY_1_7_API_VERSION\" [\u001b[01;35m\u001b[K-Wcpp\u001b[m\u001b[K]\n",
            " #\u001b[01;35m\u001b[Kwarning\u001b[m\u001b[K \"Using deprecated NumPy API, disable it with \" \\\n",
            "  \u001b[01;35m\u001b[K^~~~~~~\u001b[m\u001b[K\n",
            "x86_64-linux-gnu-gcc -pthread -shared -Wl,-O1 -Wl,-Bsymbolic-functions -Wl,-Bsymbolic-functions -Wl,-z,relro -Wl,-Bsymbolic-functions -Wl,-z,relro -g -fstack-protector-strong -Wformat -Werror=format-security -Wdate-time -D_FORTIFY_SOURCE=2 build/temp.linux-x86_64-3.6/pygpu/collectives.o -lgpuarray -o build/lib.linux-x86_64-3.6/pygpu/collectives.cpython-36m-x86_64-linux-gnu.so\n",
            "running install\n",
            "running bdist_egg\n",
            "running egg_info\n",
            "writing pygpu.egg-info/PKG-INFO\n",
            "writing dependency_links to pygpu.egg-info/dependency_links.txt\n",
            "writing requirements to pygpu.egg-info/requires.txt\n",
            "writing top-level names to pygpu.egg-info/top_level.txt\n",
            "reading manifest template 'MANIFEST.in'\n",
            "writing manifest file 'pygpu.egg-info/SOURCES.txt'\n",
            "installing library code to build/bdist.linux-x86_64/egg\n",
            "running install_lib\n",
            "running build_py\n",
            "UPDATING build/lib.linux-x86_64-3.6/pygpu/_version.py\n",
            "set build/lib.linux-x86_64-3.6/pygpu/_version.py to '0.7.6+20.g9cec614'\n",
            "running build_ext\n",
            "creating build/bdist.linux-x86_64\n",
            "creating build/bdist.linux-x86_64/egg\n",
            "creating build/bdist.linux-x86_64/egg/pygpu\n",
            "copying build/lib.linux-x86_64-3.6/pygpu/blas.pyx -> build/bdist.linux-x86_64/egg/pygpu\n",
            "copying build/lib.linux-x86_64-3.6/pygpu/blas_api.h -> build/bdist.linux-x86_64/egg/pygpu\n",
            "copying build/lib.linux-x86_64-3.6/pygpu/collectives.h -> build/bdist.linux-x86_64/egg/pygpu\n",
            "copying build/lib.linux-x86_64-3.6/pygpu/blas.cpython-36m-x86_64-linux-gnu.so -> build/bdist.linux-x86_64/egg/pygpu\n",
            "copying build/lib.linux-x86_64-3.6/pygpu/gpuarray.pyx -> build/bdist.linux-x86_64/egg/pygpu\n",
            "copying build/lib.linux-x86_64-3.6/pygpu/collectives.pxd -> build/bdist.linux-x86_64/egg/pygpu\n",
            "copying build/lib.linux-x86_64-3.6/pygpu/_elemwise.cpython-36m-x86_64-linux-gnu.so -> build/bdist.linux-x86_64/egg/pygpu\n",
            "copying build/lib.linux-x86_64-3.6/pygpu/collectives.c -> build/bdist.linux-x86_64/egg/pygpu\n",
            "copying build/lib.linux-x86_64-3.6/pygpu/collectives.cpython-36m-x86_64-linux-gnu.so -> build/bdist.linux-x86_64/egg/pygpu\n",
            "creating build/bdist.linux-x86_64/egg/pygpu/tests\n",
            "copying build/lib.linux-x86_64-3.6/pygpu/tests/test_collectives.py -> build/bdist.linux-x86_64/egg/pygpu/tests\n",
            "copying build/lib.linux-x86_64-3.6/pygpu/tests/main.py -> build/bdist.linux-x86_64/egg/pygpu/tests\n",
            "copying build/lib.linux-x86_64-3.6/pygpu/tests/test_elemwise.py -> build/bdist.linux-x86_64/egg/pygpu/tests\n",
            "copying build/lib.linux-x86_64-3.6/pygpu/tests/test_basic.py -> build/bdist.linux-x86_64/egg/pygpu/tests\n",
            "copying build/lib.linux-x86_64-3.6/pygpu/tests/test_tools.py -> build/bdist.linux-x86_64/egg/pygpu/tests\n",
            "copying build/lib.linux-x86_64-3.6/pygpu/tests/test_gpu_ndarray.py -> build/bdist.linux-x86_64/egg/pygpu/tests\n",
            "copying build/lib.linux-x86_64-3.6/pygpu/tests/support.py -> build/bdist.linux-x86_64/egg/pygpu/tests\n",
            "copying build/lib.linux-x86_64-3.6/pygpu/tests/test_operations.py -> build/bdist.linux-x86_64/egg/pygpu/tests\n",
            "copying build/lib.linux-x86_64-3.6/pygpu/tests/test_blas.py -> build/bdist.linux-x86_64/egg/pygpu/tests\n",
            "copying build/lib.linux-x86_64-3.6/pygpu/tests/__init__.py -> build/bdist.linux-x86_64/egg/pygpu/tests\n",
            "copying build/lib.linux-x86_64-3.6/pygpu/tests/test_reduction.py -> build/bdist.linux-x86_64/egg/pygpu/tests\n",
            "copying build/lib.linux-x86_64-3.6/pygpu/gpuarray.cpython-36m-x86_64-linux-gnu.so -> build/bdist.linux-x86_64/egg/pygpu\n",
            "copying build/lib.linux-x86_64-3.6/pygpu/_elemwise.c -> build/bdist.linux-x86_64/egg/pygpu\n",
            "copying build/lib.linux-x86_64-3.6/pygpu/gpuarray.pxd -> build/bdist.linux-x86_64/egg/pygpu\n",
            "copying build/lib.linux-x86_64-3.6/pygpu/collectives.pyx -> build/bdist.linux-x86_64/egg/pygpu\n",
            "copying build/lib.linux-x86_64-3.6/pygpu/collectives_api.h -> build/bdist.linux-x86_64/egg/pygpu\n",
            "copying build/lib.linux-x86_64-3.6/pygpu/gpuarray.h -> build/bdist.linux-x86_64/egg/pygpu\n",
            "copying build/lib.linux-x86_64-3.6/pygpu/_elemwise.pyx -> build/bdist.linux-x86_64/egg/pygpu\n",
            "copying build/lib.linux-x86_64-3.6/pygpu/reduction.py -> build/bdist.linux-x86_64/egg/pygpu\n",
            "copying build/lib.linux-x86_64-3.6/pygpu/elemwise.py -> build/bdist.linux-x86_64/egg/pygpu\n",
            "copying build/lib.linux-x86_64-3.6/pygpu/tools.py -> build/bdist.linux-x86_64/egg/pygpu\n",
            "copying build/lib.linux-x86_64-3.6/pygpu/gpuarray_api.h -> build/bdist.linux-x86_64/egg/pygpu\n",
            "copying build/lib.linux-x86_64-3.6/pygpu/dtypes.py -> build/bdist.linux-x86_64/egg/pygpu\n",
            "copying build/lib.linux-x86_64-3.6/pygpu/operations.py -> build/bdist.linux-x86_64/egg/pygpu\n",
            "copying build/lib.linux-x86_64-3.6/pygpu/basic.py -> build/bdist.linux-x86_64/egg/pygpu\n",
            "copying build/lib.linux-x86_64-3.6/pygpu/_version.py -> build/bdist.linux-x86_64/egg/pygpu\n",
            "copying build/lib.linux-x86_64-3.6/pygpu/blas.c -> build/bdist.linux-x86_64/egg/pygpu\n",
            "copying build/lib.linux-x86_64-3.6/pygpu/_array.py -> build/bdist.linux-x86_64/egg/pygpu\n",
            "copying build/lib.linux-x86_64-3.6/pygpu/__init__.py -> build/bdist.linux-x86_64/egg/pygpu\n",
            "copying build/lib.linux-x86_64-3.6/pygpu/numpy_compat.h -> build/bdist.linux-x86_64/egg/pygpu\n",
            "copying build/lib.linux-x86_64-3.6/pygpu/gpuarray.c -> build/bdist.linux-x86_64/egg/pygpu\n",
            "byte-compiling build/bdist.linux-x86_64/egg/pygpu/tests/test_collectives.py to test_collectives.cpython-36.pyc\n",
            "byte-compiling build/bdist.linux-x86_64/egg/pygpu/tests/main.py to main.cpython-36.pyc\n",
            "byte-compiling build/bdist.linux-x86_64/egg/pygpu/tests/test_elemwise.py to test_elemwise.cpython-36.pyc\n",
            "byte-compiling build/bdist.linux-x86_64/egg/pygpu/tests/test_basic.py to test_basic.cpython-36.pyc\n",
            "byte-compiling build/bdist.linux-x86_64/egg/pygpu/tests/test_tools.py to test_tools.cpython-36.pyc\n",
            "byte-compiling build/bdist.linux-x86_64/egg/pygpu/tests/test_gpu_ndarray.py to test_gpu_ndarray.cpython-36.pyc\n",
            "byte-compiling build/bdist.linux-x86_64/egg/pygpu/tests/support.py to support.cpython-36.pyc\n",
            "byte-compiling build/bdist.linux-x86_64/egg/pygpu/tests/test_operations.py to test_operations.cpython-36.pyc\n",
            "byte-compiling build/bdist.linux-x86_64/egg/pygpu/tests/test_blas.py to test_blas.cpython-36.pyc\n",
            "byte-compiling build/bdist.linux-x86_64/egg/pygpu/tests/__init__.py to __init__.cpython-36.pyc\n",
            "byte-compiling build/bdist.linux-x86_64/egg/pygpu/tests/test_reduction.py to test_reduction.cpython-36.pyc\n",
            "byte-compiling build/bdist.linux-x86_64/egg/pygpu/reduction.py to reduction.cpython-36.pyc\n",
            "byte-compiling build/bdist.linux-x86_64/egg/pygpu/elemwise.py to elemwise.cpython-36.pyc\n",
            "byte-compiling build/bdist.linux-x86_64/egg/pygpu/tools.py to tools.cpython-36.pyc\n",
            "byte-compiling build/bdist.linux-x86_64/egg/pygpu/dtypes.py to dtypes.cpython-36.pyc\n",
            "byte-compiling build/bdist.linux-x86_64/egg/pygpu/operations.py to operations.cpython-36.pyc\n",
            "byte-compiling build/bdist.linux-x86_64/egg/pygpu/basic.py to basic.cpython-36.pyc\n",
            "byte-compiling build/bdist.linux-x86_64/egg/pygpu/_version.py to _version.cpython-36.pyc\n",
            "byte-compiling build/bdist.linux-x86_64/egg/pygpu/_array.py to _array.cpython-36.pyc\n",
            "byte-compiling build/bdist.linux-x86_64/egg/pygpu/__init__.py to __init__.cpython-36.pyc\n",
            "creating stub loader for pygpu/gpuarray.cpython-36m-x86_64-linux-gnu.so\n",
            "creating stub loader for pygpu/blas.cpython-36m-x86_64-linux-gnu.so\n",
            "creating stub loader for pygpu/_elemwise.cpython-36m-x86_64-linux-gnu.so\n",
            "creating stub loader for pygpu/collectives.cpython-36m-x86_64-linux-gnu.so\n",
            "byte-compiling build/bdist.linux-x86_64/egg/pygpu/gpuarray.py to gpuarray.cpython-36.pyc\n",
            "byte-compiling build/bdist.linux-x86_64/egg/pygpu/blas.py to blas.cpython-36.pyc\n",
            "byte-compiling build/bdist.linux-x86_64/egg/pygpu/_elemwise.py to _elemwise.cpython-36.pyc\n",
            "byte-compiling build/bdist.linux-x86_64/egg/pygpu/collectives.py to collectives.cpython-36.pyc\n",
            "creating build/bdist.linux-x86_64/egg/EGG-INFO\n",
            "copying pygpu.egg-info/PKG-INFO -> build/bdist.linux-x86_64/egg/EGG-INFO\n",
            "copying pygpu.egg-info/SOURCES.txt -> build/bdist.linux-x86_64/egg/EGG-INFO\n",
            "copying pygpu.egg-info/dependency_links.txt -> build/bdist.linux-x86_64/egg/EGG-INFO\n",
            "copying pygpu.egg-info/requires.txt -> build/bdist.linux-x86_64/egg/EGG-INFO\n",
            "copying pygpu.egg-info/top_level.txt -> build/bdist.linux-x86_64/egg/EGG-INFO\n",
            "writing build/bdist.linux-x86_64/egg/EGG-INFO/native_libs.txt\n",
            "zip_safe flag not set; analyzing archive contents...\n",
            "pygpu.__pycache__.__init__.cpython-36: module references __file__\n",
            "pygpu.__pycache__._elemwise.cpython-36: module references __file__\n",
            "pygpu.__pycache__.blas.cpython-36: module references __file__\n",
            "pygpu.__pycache__.collectives.cpython-36: module references __file__\n",
            "pygpu.__pycache__.gpuarray.cpython-36: module references __file__\n",
            "pygpu.tests.__pycache__.main.cpython-36: module references __file__\n",
            "creating dist\n",
            "creating 'dist/pygpu-0.7.6+20.g9cec614-py3.6-linux-x86_64.egg' and adding 'build/bdist.linux-x86_64/egg' to it\n",
            "removing 'build/bdist.linux-x86_64/egg' (and everything under it)\n",
            "Processing pygpu-0.7.6+20.g9cec614-py3.6-linux-x86_64.egg\n",
            "creating /usr/local/lib/python3.6/dist-packages/pygpu-0.7.6+20.g9cec614-py3.6-linux-x86_64.egg\n",
            "Extracting pygpu-0.7.6+20.g9cec614-py3.6-linux-x86_64.egg to /usr/local/lib/python3.6/dist-packages\n",
            "Adding pygpu 0.7.6+20.g9cec614 to easy-install.pth file\n",
            "\n",
            "Installed /usr/local/lib/python3.6/dist-packages/pygpu-0.7.6+20.g9cec614-py3.6-linux-x86_64.egg\n",
            "Processing dependencies for pygpu==0.7.6+20.g9cec614\n",
            "Searching for mako>=0.7\n",
            "Reading https://pypi.org/simple/mako/\n",
            "Downloading https://files.pythonhosted.org/packages/a6/37/0e706200d22172eb8fa17d68a7ae22dec7631a0a92266634fb518a88a5b2/Mako-1.1.3-py2.py3-none-any.whl#sha256=93729a258e4ff0747c876bd9e20df1b9758028946e976324ccd2d68245c7b6a9\n",
            "Best match: Mako 1.1.3\n",
            "Processing Mako-1.1.3-py2.py3-none-any.whl\n",
            "Installing Mako-1.1.3-py2.py3-none-any.whl to /usr/local/lib/python3.6/dist-packages\n",
            "Adding Mako 1.1.3 to easy-install.pth file\n",
            "Installing mako-render script to /usr/local/bin\n",
            "\n",
            "Installed /usr/local/lib/python3.6/dist-packages/Mako-1.1.3-py3.6.egg\n",
            "Searching for six==1.15.0\n",
            "Best match: six 1.15.0\n",
            "Adding six 1.15.0 to easy-install.pth file\n",
            "\n",
            "Using /usr/local/lib/python3.6/dist-packages\n",
            "Searching for MarkupSafe==1.1.1\n",
            "Best match: MarkupSafe 1.1.1\n",
            "Adding MarkupSafe 1.1.1 to easy-install.pth file\n",
            "\n",
            "Using /usr/local/lib/python3.6/dist-packages\n",
            "Finished processing dependencies for pygpu==0.7.6+20.g9cec614\n"
          ],
          "name": "stdout"
        }
      ]
    },
    {
      "cell_type": "code",
      "metadata": {
        "id": "bTRZIanSV7Fs",
        "colab_type": "code",
        "colab": {
          "base_uri": "https://localhost:8080/",
          "height": 0
        },
        "outputId": "17f2a97c-a25f-4af7-fb33-46829fa60d5b"
      },
      "source": [
        "%cd ..\n",
        "!rm -rf libgpuarray"
      ],
      "execution_count": 10,
      "outputs": [
        {
          "output_type": "stream",
          "text": [
            "/content\n"
          ],
          "name": "stdout"
        }
      ]
    },
    {
      "cell_type": "code",
      "metadata": {
        "id": "8gVZRtNmV7De",
        "colab_type": "code",
        "colab": {
          "base_uri": "https://localhost:8080/",
          "height": 0
        },
        "outputId": "21837e85-2886-4780-c476-2b9167e01175"
      },
      "source": [
        "!sudo ldconfig\n",
        "#or restart the environment"
      ],
      "execution_count": 11,
      "outputs": [
        {
          "output_type": "stream",
          "text": [
            "/sbin/ldconfig.real: /usr/local/lib/python3.6/dist-packages/ideep4py/lib/libmkldnn.so.0 is not a symbolic link\n",
            "\n"
          ],
          "name": "stdout"
        }
      ]
    },
    {
      "cell_type": "markdown",
      "metadata": {
        "id": "RHb_1nFTWUCs",
        "colab_type": "text"
      },
      "source": [
        "##Import data"
      ]
    },
    {
      "cell_type": "code",
      "metadata": {
        "id": "CJhvsRzJb5GC",
        "colab_type": "code",
        "colab": {
          "base_uri": "https://localhost:8080/",
          "height": 0
        },
        "outputId": "2b3bab13-d343-463f-9048-762bebe04578"
      },
      "source": [
        "!git clone https://github.com/manigalati/ACDC2017"
      ],
      "execution_count": 12,
      "outputs": [
        {
          "output_type": "stream",
          "text": [
            "Cloning into 'ACDC2017'...\n",
            "remote: Enumerating objects: 37, done.\u001b[K\n",
            "remote: Counting objects: 100% (37/37), done.\u001b[K\n",
            "remote: Compressing objects: 100% (37/37), done.\u001b[K\n",
            "remote: Total 102 (delta 16), reused 0 (delta 0), pack-reused 65\u001b[K\n",
            "Receiving objects: 100% (102/102), 71.92 KiB | 7.19 MiB/s, done.\n",
            "Resolving deltas: 100% (50/50), done.\n"
          ],
          "name": "stdout"
        }
      ]
    },
    {
      "cell_type": "markdown",
      "metadata": {
        "id": "hcfrJr90XJJS",
        "colab_type": "text"
      },
      "source": [
        "## Prepare dataset"
      ]
    },
    {
      "cell_type": "code",
      "metadata": {
        "id": "fXjveQApcmON",
        "colab_type": "code",
        "colab": {
          "base_uri": "https://localhost:8080/",
          "height": 0
        },
        "outputId": "623da84c-1a23-4aba-b0c3-bda80c7c816d"
      },
      "source": [
        "%cd /content/ACDC2017"
      ],
      "execution_count": 13,
      "outputs": [
        {
          "output_type": "stream",
          "text": [
            "/content/ACDC2017\n"
          ],
          "name": "stdout"
        }
      ]
    },
    {
      "cell_type": "code",
      "metadata": {
        "id": "8YsaHFkdna8N",
        "colab_type": "code",
        "colab": {}
      },
      "source": [
        "!mkdir -p /content/ACDC2017/train_set/ && unzip -q \"/content/drive/My Drive/tesi/training.zip\" -d /content/ACDC2017/train_set/"
      ],
      "execution_count": 14,
      "outputs": []
    },
    {
      "cell_type": "code",
      "metadata": {
        "id": "p2W62RdX8Voz",
        "colab_type": "code",
        "colab": {}
      },
      "source": [
        "!unzip -q \"/content/drive/My Drive/tesi/testing.zip\" -d /content/ACDC2017/test_set/\n",
        "!mv test_set/testing/testing test_set/tmp && rm -r test_set/testing && mv test_set/tmp test_set/testing"
      ],
      "execution_count": 15,
      "outputs": []
    },
    {
      "cell_type": "code",
      "metadata": {
        "id": "8ARrnMYoXupG",
        "colab_type": "code",
        "colab": {
          "base_uri": "https://localhost:8080/",
          "height": 0
        },
        "outputId": "9801e69c-ee72-40e4-d4d1-e73014774eb6"
      },
      "source": [
        "!python dataset_utils.py -i train_set/training/ -out2d train_set_2d -out3d train_set_3d"
      ],
      "execution_count": 16,
      "outputs": [
        {
          "output_type": "stream",
          "text": [
            "could not find dir of patient  0\n",
            "could not find dir of patient  101\n",
            "could not find dir of patient  102\n",
            "could not find dir of patient  103\n",
            "could not find dir of patient  104\n",
            "could not find dir of patient  105\n",
            "could not find dir of patient  106\n",
            "could not find dir of patient  107\n",
            "could not find dir of patient  108\n",
            "could not find dir of patient  109\n",
            "could not find dir of patient  110\n",
            "could not find dir of patient  111\n",
            "could not find dir of patient  112\n",
            "could not find dir of patient  113\n",
            "could not find dir of patient  114\n",
            "could not find dir of patient  115\n",
            "could not find dir of patient  116\n",
            "could not find dir of patient  117\n",
            "could not find dir of patient  118\n",
            "could not find dir of patient  119\n",
            "could not find dir of patient  120\n",
            "could not find dir of patient  121\n",
            "could not find dir of patient  122\n",
            "could not find dir of patient  123\n",
            "could not find dir of patient  124\n",
            "could not find dir of patient  125\n",
            "could not find dir of patient  126\n",
            "could not find dir of patient  127\n",
            "could not find dir of patient  128\n",
            "could not find dir of patient  129\n",
            "could not find dir of patient  130\n",
            "could not find dir of patient  131\n",
            "could not find dir of patient  132\n",
            "could not find dir of patient  133\n",
            "could not find dir of patient  134\n",
            "could not find dir of patient  135\n",
            "could not find dir of patient  136\n",
            "could not find dir of patient  137\n",
            "could not find dir of patient  138\n",
            "could not find dir of patient  139\n",
            "could not find dir of patient  140\n",
            "could not find dir of patient  141\n",
            "could not find dir of patient  142\n",
            "could not find dir of patient  143\n",
            "could not find dir of patient  144\n",
            "could not find dir of patient  145\n",
            "could not find dir of patient  146\n",
            "could not find dir of patient  147\n",
            "could not find dir of patient  148\n",
            "could not find dir of patient  149\n",
            "could not find dir of patient  150\n",
            "1 (1.5625, 1.5625, 10.0)\n",
            "16 (1.4453099966049194, 1.4453099966049194, 10.0)\n",
            "4 (1.3671875, 1.3671875, 10.0)\n",
            "12 (1.5625, 1.5625, 10.0)\n",
            "28 (1.5625, 1.5625, 10.0)\n",
            "8 (1.5625, 1.5625, 10.0)\n",
            "20 (1.7578099966049194, 1.7578099966049194, 10.0)\n",
            "24 (1.5625, 1.5625, 10.0)\n",
            "25 (1.3671875, 1.3671875, 10.0)\n",
            "17 (1.5625, 1.5625, 10.0)\n",
            "5 (1.40625, 1.40625, 10.0)\n",
            "13 (1.4453099966049194, 1.4453099966049194, 10.0)\n",
            "9 (1.3671900033950806, 1.3671900033950806, 10.0)\n",
            "2 (1.3671875, 1.3671875, 10.0)\n",
            "21 (1.6796875, 1.6796875, 10.0)\n",
            "29 (1.3671875, 1.3671875, 10.0)\n",
            "26 (1.3671875, 1.3671875, 10.0)\n",
            "6 (1.7578125, 1.7578125, 10.0)\n",
            "18 (1.3671900033950806, 1.3671900033950806, 10.0)\n",
            "10 (1.5625, 1.5625, 10.0)\n",
            "3 (1.5625, 1.5625, 10.0)\n",
            "14 (1.3671900033950806, 1.3671900033950806, 10.0)\n",
            "30 (1.4453125, 1.4453125, 10.0)\n",
            "19 (1.4453099966049194, 1.4453099966049194, 10.0)\n",
            "22 (1.40625, 1.40625, 10.0)\n",
            "27 (1.3671875, 1.3671875, 10.0)\n",
            "15 (1.3671900033950806, 1.3671900033950806, 10.0)\n",
            "11 (1.4843800067901611, 1.4843800067901611, 10.0)\n",
            "31 (1.484375, 1.484375, 10.0)\n",
            "23 (1.4453125, 1.4453125, 10.0)\n",
            "32 (1.5625, 1.5625, 10.0)\n",
            "7 (1.875, 1.875, 10.0)\n",
            "36 (1.4453099966049194, 1.4453099966049194, 10.0)\n",
            "40 (1.4843800067901611, 1.4843800067901611, 10.0)\n",
            "44 (1.3671875, 1.3671875, 10.0)\n",
            "48 (1.5625, 1.5625, 10.0)\n",
            "52 (1.4843800067901611, 1.4843800067901611, 10.0)\n",
            "56 (1.3671900033950806, 1.3671900033950806, 10.0)\n",
            "37 (1.875, 1.875, 10.0)\n",
            "45 (1.5625, 1.5625, 10.0)\n",
            "33 (1.5625, 1.5625, 10.0)\n",
            "41 (1.7857099771499634, 1.7857099771499634, 10.0)\n",
            "49 (1.3671875, 1.3671875, 10.0)\n",
            "60 (1.5625, 1.5625, 10.0)\n",
            "53 (1.3671900033950806, 1.3671900033950806, 10.0)\n",
            "57 (0.703125, 0.703125, 10.0)\n",
            "42 (1.7578125, 1.7578125, 10.0)\n",
            "46 (1.5625, 1.5625, 10.0)\n",
            "38 (0.8333330154418945, 0.8333330154418945, 10.0)\n",
            "50 (1.3671875, 1.3671875, 10.0)\n",
            "54 (1.4843800067901611, 1.4843800067901611, 10.0)\n",
            "34 (1.5625, 1.5625, 10.0)\n",
            "61 (1.3671875, 1.3671875, 10.0)\n",
            "39 (1.6406199932098389, 1.6406199932098389, 10.0)\n",
            "58 (1.40625, 1.40625, 10.0)\n",
            "47 (1.6796900033950806, 1.6796900033950806, 10.0)\n",
            "51 (1.6406199932098389, 1.6406199932098389, 10.0)\n",
            "55 (1.4843800067901611, 1.4843800067901611, 10.0)\n",
            "43 (1.9196399450302124, 1.9196399450302124, 6.5)\n",
            "62 (1.3671875, 1.3671875, 10.0)\n",
            "35 (1.6796900033950806, 1.6796900033950806, 5.0)\n",
            "59 (1.3671900033950806, 1.3671900033950806, 10.0)\n",
            "64 (1.4453125, 1.4453125, 10.0)\n",
            "68 (1.5625, 1.5625, 10.0)\n",
            "72 (1.5625, 1.5625, 10.0)\n",
            "63 (1.3671875, 1.3671875, 10.0)\n",
            "76 (1.5625, 1.5625, 10.0)\n",
            "80 (1.7578099966049194, 1.7578099966049194, 10.0)\n",
            "84 (1.3671900033950806, 1.3671900033950806, 5.0)\n",
            "65 (1.875, 1.875, 10.0)\n",
            "69 (1.5625, 1.5625, 10.0)\n",
            "88 (1.6517900228500366, 1.6517900228500366, 5.0)\n",
            "92 (1.6826900243759155, 1.6826900243759155, 5.0)\n",
            "81 (1.6517900228500366, 1.6517900228500366, 5.0)\n",
            "73 (1.640625, 1.640625, 10.0)\n",
            "77 (1.40625, 1.40625, 10.0)\n",
            "85 (1.2152800559997559, 1.2152800559997559, 5.0)\n",
            "70 (1.5625, 1.5625, 10.0)\n",
            "66 (1.3671875, 1.3671875, 10.0)\n",
            "74 (1.5625, 1.5625, 10.0)\n",
            "89 (1.4583300352096558, 1.4583300352096558, 10.0)\n",
            "78 (1.3671900033950806, 1.3671900033950806, 10.0)\n",
            "71 (1.5625, 1.5625, 10.0)\n",
            "93 (1.5625, 1.5625, 7.0)\n",
            "82 (1.7857099771499634, 1.7857099771499634, 5.0)\n",
            "86 (1.5625, 1.5625, 10.0)\n",
            "67 (1.3671875, 1.3671875, 10.0)\n",
            "79 (1.3671900033950806, 1.3671900033950806, 10.0)\n",
            "90 (1.7857099771499634, 1.7857099771499634, 10.0)\n",
            "75 (1.7857099771499634, 1.7857099771499634, 5.0)\n",
            "94 (1.6826900243759155, 1.6826900243759155, 5.0)\n",
            "87 (1.4453099966049194, 1.4453099966049194, 10.0)\n",
            "96 (1.6826900243759155, 1.6826900243759155, 5.0)\n",
            "91 (1.5625, 1.5625, 10.0)\n",
            "100 (1.315790057182312, 1.315790057182312, 10.0)\n",
            "83 (1.5625, 1.5625, 10.0)\n",
            "95 (1.5625, 1.5625, 5.0)\n",
            "97 (1.4843800067901611, 1.4843800067901611, 10.0)\n",
            "98 (1.25, 1.25, 10.0)\n",
            "99 (1.7857099771499634, 1.7857099771499634, 5.0)\n",
            "could not find dir of patient  0\n",
            "could not find dir of patient  101\n",
            "could not find dir of patient  102\n",
            "could not find dir of patient  103\n",
            "could not find dir of patient  104\n",
            "could not find dir of patient  105\n",
            "could not find dir of patient  106\n",
            "could not find dir of patient  107\n",
            "could not find dir of patient  108\n",
            "could not find dir of patient  109\n",
            "could not find dir of patient  110\n",
            "could not find dir of patient  111\n",
            "could not find dir of patient  112\n",
            "could not find dir of patient  113\n",
            "could not find dir of patient  114\n",
            "could not find dir of patient  115\n",
            "could not find dir of patient  116\n",
            "could not find dir of patient  117\n",
            "could not find dir of patient  118\n",
            "could not find dir of patient  119\n",
            "could not find dir of patient  120\n",
            "could not find dir of patient  121\n",
            "could not find dir of patient  122\n",
            "could not find dir of patient  123\n",
            "could not find dir of patient  124\n",
            "could not find dir of patient  125\n",
            "could not find dir of patient  126\n",
            "could not find dir of patient  127\n",
            "could not find dir of patient  128\n",
            "could not find dir of patient  129\n",
            "could not find dir of patient  130\n",
            "could not find dir of patient  131\n",
            "could not find dir of patient  132\n",
            "could not find dir of patient  133\n",
            "could not find dir of patient  134\n",
            "could not find dir of patient  135\n",
            "could not find dir of patient  136\n",
            "could not find dir of patient  137\n",
            "could not find dir of patient  138\n",
            "could not find dir of patient  139\n",
            "could not find dir of patient  140\n",
            "could not find dir of patient  141\n",
            "could not find dir of patient  142\n",
            "could not find dir of patient  143\n",
            "could not find dir of patient  144\n",
            "could not find dir of patient  145\n",
            "could not find dir of patient  146\n",
            "could not find dir of patient  147\n",
            "could not find dir of patient  148\n",
            "could not find dir of patient  149\n",
            "could not find dir of patient  150\n",
            "4 (1.3671875, 1.3671875, 10.0)\n",
            "1 (1.5625, 1.5625, 10.0)\n",
            "28 (1.5625, 1.5625, 10.0)\n",
            "8 (1.5625, 1.5625, 10.0)\n",
            "16 (1.4453099966049194, 1.4453099966049194, 10.0)\n",
            "24 (1.5625, 1.5625, 10.0)\n",
            "12 (1.5625, 1.5625, 10.0)\n",
            "20 (1.7578099966049194, 1.7578099966049194, 10.0)\n",
            "25 (1.3671875, 1.3671875, 10.0)\n",
            "17 (1.5625, 1.5625, 10.0)\n",
            "5 (1.40625, 1.40625, 10.0)\n",
            "9 (1.3671900033950806, 1.3671900033950806, 10.0)\n",
            "2 (1.3671875, 1.3671875, 10.0)\n",
            "13 (1.4453099966049194, 1.4453099966049194, 10.0)\n",
            "21 (1.6796875, 1.6796875, 10.0)\n",
            "29 (1.3671875, 1.3671875, 10.0)\n",
            "26 (1.3671875, 1.3671875, 10.0)\n",
            "6 (1.7578125, 1.7578125, 10.0)\n",
            "18 (1.3671900033950806, 1.3671900033950806, 10.0)\n",
            "10 (1.5625, 1.5625, 10.0)\n",
            "30 (1.4453125, 1.4453125, 10.0)\n",
            "3 (1.5625, 1.5625, 10.0)\n",
            "14 (1.3671900033950806, 1.3671900033950806, 10.0)\n",
            "22 (1.40625, 1.40625, 10.0)\n",
            "27 (1.3671875, 1.3671875, 10.0)\n",
            "19 (1.4453099966049194, 1.4453099966049194, 10.0)\n",
            "15 (1.3671900033950806, 1.3671900033950806, 10.0)\n",
            "11 (1.4843800067901611, 1.4843800067901611, 10.0)\n",
            "31 (1.484375, 1.484375, 10.0)\n",
            "23 (1.4453125, 1.4453125, 10.0)\n",
            "32 (1.5625, 1.5625, 10.0)\n",
            "7 (1.875, 1.875, 10.0)\n",
            "36 (1.4453099966049194, 1.4453099966049194, 10.0)\n",
            "40 (1.4843800067901611, 1.4843800067901611, 10.0)\n",
            "44 (1.3671875, 1.3671875, 10.0)\n",
            "48 (1.5625, 1.5625, 10.0)\n",
            "52 (1.4843800067901611, 1.4843800067901611, 10.0)\n",
            "56 (1.3671900033950806, 1.3671900033950806, 10.0)\n",
            "33 (1.5625, 1.5625, 10.0)\n",
            "37 (1.875, 1.875, 10.0)\n",
            "45 (1.5625, 1.5625, 10.0)\n",
            "41 (1.7857099771499634, 1.7857099771499634, 10.0)\n",
            "53 (1.3671900033950806, 1.3671900033950806, 10.0)\n",
            "49 (1.3671875, 1.3671875, 10.0)\n",
            "57 (0.703125, 0.703125, 10.0)\n",
            "60 (1.5625, 1.5625, 10.0)\n",
            "42 (1.7578125, 1.7578125, 10.0)\n",
            "54 (1.4843800067901611, 1.4843800067901611, 10.0)\n",
            "50 (1.3671875, 1.3671875, 10.0)\n",
            "38 (0.8333330154418945, 0.8333330154418945, 10.0)\n",
            "46 (1.5625, 1.5625, 10.0)\n",
            "34 (1.5625, 1.5625, 10.0)\n",
            "61 (1.3671875, 1.3671875, 10.0)\n",
            "58 (1.40625, 1.40625, 10.0)\n",
            "39 (1.6406199932098389, 1.6406199932098389, 10.0)\n",
            "55 (1.4843800067901611, 1.4843800067901611, 10.0)\n",
            "51 (1.6406199932098389, 1.6406199932098389, 10.0)\n",
            "43 (1.9196399450302124, 1.9196399450302124, 6.5)\n",
            "47 (1.6796900033950806, 1.6796900033950806, 10.0)\n",
            "35 (1.6796900033950806, 1.6796900033950806, 5.0)\n",
            "62 (1.3671875, 1.3671875, 10.0)\n",
            "59 (1.3671900033950806, 1.3671900033950806, 10.0)\n",
            "64 (1.4453125, 1.4453125, 10.0)\n",
            "68 (1.5625, 1.5625, 10.0)\n",
            "72 (1.5625, 1.5625, 10.0)\n",
            "76 (1.5625, 1.5625, 10.0)\n",
            "63 (1.3671875, 1.3671875, 10.0)\n",
            "80 (1.7578099966049194, 1.7578099966049194, 10.0)\n",
            "84 (1.3671900033950806, 1.3671900033950806, 5.0)\n",
            "88 (1.6517900228500366, 1.6517900228500366, 5.0)\n",
            "69 (1.5625, 1.5625, 10.0)\n",
            "65 (1.875, 1.875, 10.0)\n",
            "92 (1.6826900243759155, 1.6826900243759155, 5.0)\n",
            "85 (1.2152800559997559, 1.2152800559997559, 5.0)\n",
            "73 (1.640625, 1.640625, 10.0)\n",
            "89 (1.4583300352096558, 1.4583300352096558, 10.0)\n",
            "81 (1.6517900228500366, 1.6517900228500366, 5.0)\n",
            "77 (1.40625, 1.40625, 10.0)\n",
            "70 (1.5625, 1.5625, 10.0)\n",
            "93 (1.5625, 1.5625, 7.0)\n",
            "86 (1.5625, 1.5625, 10.0)\n",
            "82 (1.7857099771499634, 1.7857099771499634, 5.0)\n",
            "66 (1.3671875, 1.3671875, 10.0)\n",
            "74 (1.5625, 1.5625, 10.0)\n",
            "90 (1.7857099771499634, 1.7857099771499634, 10.0)\n",
            "94 (1.6826900243759155, 1.6826900243759155, 5.0)\n",
            "78 (1.3671900033950806, 1.3671900033950806, 10.0)\n",
            "71 (1.5625, 1.5625, 10.0)\n",
            "87 (1.4453099966049194, 1.4453099966049194, 10.0)\n",
            "95 (1.5625, 1.5625, 5.0)\n",
            "83 (1.5625, 1.5625, 10.0)\n",
            "91 (1.5625, 1.5625, 10.0)\n",
            "79 (1.3671900033950806, 1.3671900033950806, 10.0)\n",
            "67 (1.3671875, 1.3671875, 10.0)\n",
            "75 (1.7857099771499634, 1.7857099771499634, 5.0)\n",
            "96 (1.6826900243759155, 1.6826900243759155, 5.0)\n",
            "100 (1.315790057182312, 1.315790057182312, 10.0)\n",
            "97 (1.4843800067901611, 1.4843800067901611, 10.0)\n",
            "98 (1.25, 1.25, 10.0)\n",
            "99 (1.7857099771499634, 1.7857099771499634, 5.0)\n"
          ],
          "name": "stdout"
        }
      ]
    },
    {
      "cell_type": "markdown",
      "metadata": {
        "id": "fe0CE_JMX28T",
        "colab_type": "text"
      },
      "source": [
        "## Training"
      ]
    },
    {
      "cell_type": "code",
      "metadata": {
        "id": "KDYO-P4gX_Yt",
        "colab_type": "code",
        "colab": {}
      },
      "source": [
        "!mkdir out"
      ],
      "execution_count": null,
      "outputs": []
    },
    {
      "cell_type": "markdown",
      "metadata": {
        "id": "MDnN0yCAYNF-",
        "colab_type": "text"
      },
      "source": [
        "### Training 2D"
      ]
    },
    {
      "cell_type": "code",
      "metadata": {
        "id": "vCIzK1UYYftx",
        "colab_type": "code",
        "colab": {
          "base_uri": "https://localhost:8080/",
          "height": 171
        },
        "outputId": "0b66539e-752c-4992-b434-31ab171441b9"
      },
      "source": [
        "!THEANO_FLAGS='floatX=float32,device=cuda0' python run_training_2D.py -f 0 -c UNet2D_config.py"
      ],
      "execution_count": null,
      "outputs": [
        {
          "output_type": "stream",
          "text": [
            "/usr/local/lib/python3.6/dist-packages/theano/gpuarray/dnn.py:184: UserWarning: Your cuDNN version is more recent than Theano. If you encounter problems, try updating Theano or downgrading cuDNN to a version >= v5 and <= v7.\n",
            "  warnings.warn(\"Your cuDNN version is more recent than \"\n",
            "Using cuDNN version 7605 on context None\n",
            "Mapped name None to device cuda0: Tesla P100-PCIE-16GB (0000:00:04.0)\n",
            "[GpuElemwise{exp,no_inplace}(<GpuArrayType<None>(float32, vector)>), HostFromGpu(gpuarray)(GpuElemwise{exp,no_inplace}.0)]\n",
            "Looping 1000 times took 0.402564 seconds\n",
            "Result is [1.2317803 1.6187935 1.5227807 ... 2.2077181 2.2996776 1.623233 ]\n",
            "Used the gpu\n"
          ],
          "name": "stdout"
        }
      ]
    },
    {
      "cell_type": "markdown",
      "metadata": {
        "id": "g1op-KmcYYQ_",
        "colab_type": "text"
      },
      "source": [
        "### Training 3D"
      ]
    },
    {
      "cell_type": "code",
      "metadata": {
        "id": "Fatvq3QweZuc",
        "colab_type": "code",
        "colab": {
          "base_uri": "https://localhost:8080/",
          "height": 411
        },
        "outputId": "8c0b483c-cecf-44f2-d913-b6f6a747408e"
      },
      "source": [
        "!THEANO_FLAGS='floatX=float32,device=cuda0' python run_training_3D.py -f 0 -c UNet3D_config.py"
      ],
      "execution_count": null,
      "outputs": [
        {
          "output_type": "stream",
          "text": [
            "/content/ACDC2017/train_set_2d\n",
            "/usr/local/lib/python3.6/dist-packages/batchgenerators/dataloading/data_loader.py:53: DeprecationWarning: This DataLoader will soon be removed. Migrate everything to SlimDataLoaderBase now!\n",
            "  warn(\"This DataLoader will soon be removed. Migrate everything to SlimDataLoaderBase now!\", DeprecationWarning)\n",
            "/usr/local/lib/python3.6/dist-packages/batchgenerators/transforms/abstract_transforms.py:53: DeprecationWarning: This is deprecated. All applicable transfroms now have a p_per_sample argument which allows batchgenerators to do or not do an augmentation on a per-sample basis instead of the entire batch\n",
            "  DeprecationWarning)\n",
            "/usr/local/lib/python3.6/dist-packages/batchgenerators/dataloading/data_loader.py:53: DeprecationWarning: This DataLoader will soon be removed. Migrate everything to SlimDataLoaderBase now!\n",
            "  warn(\"This DataLoader will soon be removed. Migrate everything to SlimDataLoaderBase now!\", DeprecationWarning)\n",
            "Could not plot network architecture due to import error:  (<class 'ModuleNotFoundError'>, ModuleNotFoundError(\"No module named 'Utils'\",), <traceback object at 0x7ffb1b8332c8>)\n",
            "WARNING (theano.tensor.blas): We did not find a dynamic library in the library_dir of the library we use for blas. If you use ATLAS, make sure to compile it with dynamics library.\n",
            "WARNING:theano.tensor.blas:We did not find a dynamic library in the library_dir of the library we use for blas. If you use ATLAS, make sure to compile it with dynamics library.\n",
            "HAMTARO\n",
            "CULOCAZZO\n",
            "kmjd fdjslf sd\n",
            "tcmalloc: large alloc 2817884160 bytes == 0xa3ccc000 @  0x7ffb863ae001 0x7ffb82e21765 0x7ffb82e85bb0 0x7ffb82e87a4f 0x7ffa9c593728 0x7ffa9c595834 0x7ffb7338cc4c 0x7ffb7338d69d 0x7ffb7338d602 0x7ffb7338d602 0x7ffb7338d602 0x7ffb7338d602 0x7ffb7338d602 0x7ffb7338d602 0x7ffb7338d602 0x7ffb7338d602 0x7ffb7338d602 0x7ffb7338d602 0x7ffb7338d602 0x7ffb7338d602 0x7ffb7338d602 0x7ffb7338d602 0x7ffb7338d602 0x7ffb7338d602 0x7ffb7338d602 0x7ffb7338d602 0x7ffb7338d602 0x7ffb7338d602 0x7ffb7338d602 0x7ffb7338d602 0x7ffb7338d602\n",
            "tcmalloc: large alloc 1408942080 bytes == 0x10d8d4000 @  0x7ffb863ae001 0x7ffb82e21765 0x7ffb82e85bb0 0x7ffb82e87a4f 0x7ffa9c593728 0x7ffa9c595834 0x7ffb7338cc4c 0x7ffb7338d69d 0x7ffb7338d602 0x7ffb7338d602 0x7ffb7338d602 0x7ffb7338d602 0x7ffb7338d602 0x7ffb7338d602 0x7ffb7338d602 0x7ffb7338d602 0x7ffb7338d602 0x7ffb7338d602 0x7ffb7338d602 0x7ffb7338d602 0x7ffb7338d602 0x7ffb7338d602 0x7ffb7338d602 0x7ffb7338d602 0x7ffb7338d602 0x7ffb7338d602 0x7ffb7338d602 0x7ffb7338d602 0x7ffb7338d602 0x7ffb7338d602 0x7ffb7338d602\n",
            "tcmalloc: large alloc 2113413120 bytes == 0x7ff9fe228000 @  0x7ffb863ae001 0x7ffb82e21765 0x7ffb82e85bb0 0x7ffb82e87a4f 0x7ffa9c593728 0x7ffa9c595834 0x7ffb7338cc4c 0x7ffb7338d69d 0x7ffb7338d602 0x7ffb7338d602 0x7ffb7338d602 0x7ffb7338d602 0x7ffb7338d602 0x7ffb7338d602 0x7ffb7338d602 0x7ffb7338d602 0x7ffb7338d602 0x7ffb7338d602 0x7ffb7338d602 0x7ffb7338d602 0x7ffb7338d602 0x7ffb7338d602 0x7ffb7338d602 0x7ffb7338d602 0x7ffb7338d602 0x7ffb7338d602 0x7ffb7338d602 0x7ffb7338d602 0x7ffb7338d602 0x7ffb7338d602 0x7ffb7338d602\n",
            "tcmalloc: large alloc 4226826240 bytes == 0x7ff902324000 @  0x7ffb863ae001 0x7ffb82e21765 0x7ffb82e85bb0 0x7ffb82e87a4f 0x7ffa9c593728 0x7ffa9c595834 0x7ffb7338cc4c 0x7ffb7338d69d 0x7ffb7338d602 0x7ffb7338d602 0x7ffb7338d602 0x7ffb7338d602 0x7ffb7338d602 0x7ffb7338d602 0x7ffb7338d602 0x7ffb7338d602 0x7ffb7338d602 0x7ffb7338d602 0x7ffb7338d602 0x7ffb7338d602 0x7ffb7338d602 0x7ffb7338d602 0x7ffb7338d602 0x7ffb7338d602 0x7ffb7338d602 0x7ffb7338cfad 0x7ffb7338d602 0x7ffb7338cfad 0x7ffb7338d602 0x7ffb7338d602 0x7ffb7338cfad\n",
            "tcmalloc: large alloc 8453652480 bytes == 0x7ff70a51c000 @  0x7ffb863ae001 0x7ffb82e21765 0x7ffb82e85bb0 0x7ffb82e87a4f 0x7ffa9c593728 0x7ffa9c595834 0x7ffb7338cc4c 0x7ffb7338d69d 0x7ffb7338d602 0x7ffb7338d602 0x7ffb7338d602 0x7ffb7338d602 0x7ffb7338cfad 0x7ffb7338d602 0x7ffb7338cfad 0x7ffb7338d602 0x7ffb7338d602 0x7ffb7338cfad 0x7ffb7338d602 0x7ffb7338d602 0x7ffb7338d602 0x7ffb7338d602 0x7ffb7338d602 0x7ffb7338d602 0x7ffb7338df63 0x5a9eec 0x50a783 0x50c1f4 0x507f24 0x509202 0x594b01\n",
            "tcmalloc: large alloc 2817884160 bytes == 0x7ff70a51c000 @  0x7ffb863ae001 0x7ffb82e21765 0x7ffb82e85bb0 0x7ffb82e87a4f 0x7ffa9c593728 0x7ffa9c595834 0x7ffb7338cc4c 0x7ffb7338d69d 0x7ffb7338d602 0x7ffb7338cfad 0x7ffb7338d602 0x7ffb7338cfad 0x7ffb7338d602 0x7ffb7338d602 0x7ffb7338cfad 0x7ffb7338d602 0x7ffb7338d602 0x7ffb7338d602 0x7ffb7338d602 0x7ffb7338d602 0x7ffb7338d602 0x7ffb7338df63 0x5a9eec 0x50a783 0x50c1f4 0x507f24 0x509202 0x594b01 0x54ac61 0x5a9eec 0x50a783\n",
            "tcmalloc: large alloc 2817884160 bytes == 0x7ff7bdc34000 @  0x7ffb863ae001 0x7ffb82e21765 0x7ffb82e85bb0 0x7ffb82e87a4f 0x7ffa8bd317d8 0x7ffa8bd33ca5 0x7ffb7338cc4c 0x7ffb7338d69d 0x7ffb7338d602 0x7ffb7338d602 0x7ffb7338cfad 0x7ffb7338d602 0x7ffb7338d602 0x7ffb7338d602 0x7ffb7338d602 0x7ffb7338d602 0x7ffb7338d602 0x7ffb7338d602 0x7ffb7338d602 0x7ffb7338d602 0x7ffb7338d602 0x7ffb7338d602 0x7ffb7338d602 0x7ffb7338d602 0x7ffb7338d602 0x7ffb7338d602 0x7ffb7338d602 0x7ffb7338d602 0x7ffb7338d602 0x7ffb7338d602 0x7ffb7338d602\n",
            "tcmalloc: large alloc 8453652480 bytes == 0x7ff511f14000 @  0x7ffb863ae001 0x7ffb82e21765 0x7ffb82e85bb0 0x7ffb82e87a4f 0x7ffa8bd317d8 0x7ffa8bd33ca5 0x7ffb7338cc4c 0x7ffb7338d69d 0x7ffb7338d602 0x7ffb7338d602 0x7ffb7338d602 0x7ffb7338d602 0x7ffb7338d602 0x7ffb7338d602 0x7ffb7338d602 0x7ffb7338d602 0x7ffb7338d602 0x7ffb7338d602 0x7ffb7338d602 0x7ffb7338d602 0x7ffb7338d602 0x7ffb7338d602 0x7ffb7338d602 0x7ffb7338d602 0x7ffb7338d602 0x7ffb7338d602 0x7ffb7338d602 0x7ffb7338d602 0x7ffb7338d602 0x7ffb7338d602 0x7ffb7338d602\n",
            "^C\n"
          ],
          "name": "stdout"
        }
      ]
    },
    {
      "cell_type": "markdown",
      "metadata": {
        "id": "mSf-K6TSYlaq",
        "colab_type": "text"
      },
      "source": [
        "## Testing"
      ]
    },
    {
      "cell_type": "code",
      "metadata": {
        "id": "0wUKkz-wIIQf",
        "colab_type": "code",
        "colab": {}
      },
      "source": [
        "!cp -r \"/content/drive/My Drive/tesi/20180517_tmi_2018_bernard_best_RESULTS/out\" /content/ACDC2017/out"
      ],
      "execution_count": 17,
      "outputs": []
    },
    {
      "cell_type": "markdown",
      "metadata": {
        "id": "cHvy8W4hIkah",
        "colab_type": "text"
      },
      "source": [
        "### Testing 2D"
      ]
    },
    {
      "cell_type": "code",
      "metadata": {
        "id": "qrVjMjOR0V6_",
        "colab_type": "code",
        "colab": {
          "base_uri": "https://localhost:8080/",
          "height": 1000
        },
        "outputId": "099dfc26-0d53-45d5-f404-aa07ebbdb823"
      },
      "source": [
        "!THEANO_FLAGS='floatX=float32,device=cuda0' python predict_test_2D_net.py -f 0 -c /content/ACDC2017/UNet2D_config.py"
      ],
      "execution_count": null,
      "outputs": [
        {
          "output_type": "stream",
          "text": [
            "/usr/local/lib/python3.6/dist-packages/theano/gpuarray/dnn.py:184: UserWarning: Your cuDNN version is more recent than Theano. If you encounter problems, try updating Theano or downgrading cuDNN to a version >= v5 and <= v7.\n",
            "  warnings.warn(\"Your cuDNN version is more recent than \"\n",
            "Using cuDNN version 7605 on context None\n",
            "Mapped name None to device cuda0: Tesla P100-PCIE-16GB (0000:00:04.0)\n",
            "0\n",
            "compiling theano functions\n",
            "101\n",
            "/content/ACDC2017/utils.py:30: UserWarning: The argument 'neighbors' is deprecated and will be removed in scikit-image 0.18, use 'connectivity' instead. For neighbors=8, use connectivity=3\n",
            "  lbls = label(mask, 8)\n",
            "102\n",
            "103\n",
            "104\n",
            "105\n",
            "106\n",
            "107\n",
            "108\n",
            "109\n",
            "110\n",
            "111\n",
            "112\n",
            "113\n",
            "114\n",
            "115\n",
            "116\n",
            "117\n",
            "118\n",
            "119\n",
            "120\n",
            "121\n",
            "122\n",
            "123\n",
            "124\n",
            "125\n",
            "126\n",
            "127\n",
            "128\n",
            "129\n",
            "130\n",
            "131\n",
            "132\n",
            "133\n",
            "134\n",
            "135\n",
            "136\n",
            "137\n",
            "138\n",
            "139\n",
            "140\n",
            "141\n",
            "142\n",
            "143\n",
            "144\n",
            "145\n",
            "146\n",
            "147\n",
            "148\n",
            "149\n",
            "150\n"
          ],
          "name": "stdout"
        }
      ]
    },
    {
      "cell_type": "markdown",
      "metadata": {
        "id": "HyatlMXRIng9",
        "colab_type": "text"
      },
      "source": [
        "### Testing 3D"
      ]
    },
    {
      "cell_type": "code",
      "metadata": {
        "id": "YbhdtSsAIqLj",
        "colab_type": "code",
        "colab": {
          "base_uri": "https://localhost:8080/",
          "height": 1000
        },
        "outputId": "5c032b2f-9ac7-4423-8c70-8083e076686c"
      },
      "source": [
        "!THEANO_FLAGS='floatX=float32,device=cuda0' python predict_test_3D_net.py -f 0 -c /content/ACDC2017/UNet3D_config.py"
      ],
      "execution_count": 31,
      "outputs": [
        {
          "output_type": "stream",
          "text": [
            "/usr/local/lib/python3.6/dist-packages/theano/gpuarray/dnn.py:184: UserWarning: Your cuDNN version is more recent than Theano. If you encounter problems, try updating Theano or downgrading cuDNN to a version >= v5 and <= v7.\n",
            "  warnings.warn(\"Your cuDNN version is more recent than \"\n",
            "Using cuDNN version 7605 on context None\n",
            "Mapped name None to device cuda0: Tesla P100-PCIE-16GB (0000:00:04.0)\n",
            "/content/ACDC2017/train_set_3d\n",
            "0\n",
            "101\n",
            "/content/ACDC2017/utils.py:30: UserWarning: The argument 'neighbors' is deprecated and will be removed in scikit-image 0.18, use 'connectivity' instead. For neighbors=8, use connectivity=3\n",
            "  lbls = label(mask, 8)\n",
            "102\n",
            "103\n",
            "104\n",
            "105\n",
            "106\n",
            "107\n",
            "108\n",
            "109\n",
            "110\n",
            "111\n",
            "112\n",
            "113\n",
            "114\n",
            "115\n",
            "116\n",
            "117\n",
            "118\n",
            "119\n",
            "120\n",
            "121\n",
            "122\n",
            "123\n",
            "124\n",
            "125\n",
            "126\n",
            "127\n",
            "128\n",
            "129\n",
            "130\n",
            "131\n",
            "132\n",
            "133\n",
            "134\n",
            "135\n",
            "136\n",
            "137\n",
            "138\n",
            "139\n",
            "140\n",
            "141\n",
            "142\n",
            "143\n",
            "144\n",
            "145\n",
            "146\n",
            "147\n",
            "148\n",
            "149\n",
            "150\n"
          ],
          "name": "stdout"
        }
      ]
    },
    {
      "cell_type": "markdown",
      "metadata": {
        "id": "2vQH5KK-ShQm",
        "colab_type": "text"
      },
      "source": [
        "### Ensemble"
      ]
    },
    {
      "cell_type": "code",
      "metadata": {
        "id": "qHB9QTfW1iXw",
        "colab_type": "code",
        "colab": {
          "base_uri": "https://localhost:8080/",
          "height": 138
        },
        "outputId": "ddcd7dee-3bde-483a-aac6-e7e5eb79ed34"
      },
      "source": [
        "!python create_final_submission_files.py -c2d /content/ACDC2017/UNet2D_config.py -c3d /content/ACDC2017/UNet3D_config.py -o \"/content/drive/My Drive/tesi/20180517_tmi_2018_bernard_best_RESULTS/resultsENSEMBLE\""
      ],
      "execution_count": 38,
      "outputs": [
        {
          "output_type": "stream",
          "text": [
            "/usr/local/lib/python3.6/dist-packages/theano/gpuarray/dnn.py:184: UserWarning: Your cuDNN version is more recent than Theano. If you encounter problems, try updating Theano or downgrading cuDNN to a version >= v5 and <= v7.\n",
            "  warnings.warn(\"Your cuDNN version is more recent than \"\n",
            "/content/ACDC2017/train_set_3d\n",
            "/content/ACDC2017/out/ACDC_lasagne/UNet2D_final/test_predictions/\n",
            "/content/ACDC2017/utils.py:30: UserWarning: The argument 'neighbors' is deprecated and will be removed in scikit-image 0.18, use 'connectivity' instead. For neighbors=8, use connectivity=3\n",
            "  lbls = label(mask, 8)\n"
          ],
          "name": "stdout"
        }
      ]
    }
  ]
}